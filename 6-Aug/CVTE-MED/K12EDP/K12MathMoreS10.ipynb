{
 "cells": [
  {
   "cell_type": "code",
   "execution_count": 2,
   "metadata": {},
   "outputs": [
    {
     "name": "stdout",
     "output_type": "stream",
     "text": [
      "(542340, 3586)\n",
      "(100000, 3586)\n"
     ]
    }
   ],
   "source": [
    "import pandas as pd\n",
    "#对50万样本随机采样3万\n",
    "data = pd.read_csv(\"/data/fjsdata/mathV.csv\",sep='|',low_memory=False)\n",
    "data = data.fillna(0)#填补空值为零\n",
    "print(data.shape)\n",
    "#data = data.dropna(axis=0,how='any')\n",
    "data=data.sample(n=100000)#随机采样5万\n",
    "data.to_csv(\"/data/fjsdata/mathVR10W.csv\",index=False,sep='|')\n",
    "print(data.shape)"
   ]
  },
  {
   "cell_type": "code",
   "execution_count": 7,
   "metadata": {},
   "outputs": [
    {
     "name": "stderr",
     "output_type": "stream",
     "text": [
      "WARNING (theano.tensor.blas): Using NumPy C-API based implementation for BLAS functions.\n"
     ]
    },
    {
     "name": "stdout",
     "output_type": "stream",
     "text": [
      "(100000, 3586)\n"
     ]
    },
    {
     "name": "stderr",
     "output_type": "stream",
     "text": [
      "/usr/local/lib/python3.6/dist-packages/pymc3/tuning/starting.py:61: UserWarning: find_MAP should not be used to initialize the NUTS sampler, simply call pymc3.sample() and it will automatically initialize NUTS in a better way.\n",
      "  warnings.warn('find_MAP should not be used to initialize the NUTS sampler, simply call pymc3.sample() and it will automatically initialize NUTS in a better way.')\n",
      "logp = -86,720, ||grad|| = 2.9813: 100%|██████████| 930/930 [43:18<00:00,  2.79s/it]          \n",
      "Multiprocess sampling (2 chains in 2 jobs)\n",
      "CompoundStep\n",
      ">Metropolis: [alfa]\n",
      ">Metropolis: [beta]\n",
      "Sampling 2 chains: 100%|██████████| 3000/3000 [1:28:47<00:00,  3.23s/draws]\n",
      "The gelman-rubin statistic is larger than 1.4 for some parameters. The sampler did not converge.\n",
      "The estimated number of effective samples is smaller than 200 for some parameters.\n",
      "100%|██████████| 2000/2000 [43:12<00:00,  1.28s/it]\n"
     ]
    },
    {
     "name": "stdout",
     "output_type": "stream",
     "text": [
      "测试集准确率：0.838500\n",
      "             precision    recall  f1-score   support\n",
      "\n",
      "        0.0       1.00      1.00      1.00     12997\n",
      "        1.0       0.00      0.00      0.00        23\n",
      "        2.0       0.00      0.00      0.00       930\n",
      "        3.0       0.54      1.00      0.70      3788\n",
      "        4.0       0.00      0.00      0.00      2235\n",
      "        5.0       0.00      0.00      0.00        27\n",
      "\n",
      "avg / total       0.75      0.84      0.78     20000\n",
      "\n",
      "Complete time: 10896.869679 s\n"
     ]
    },
    {
     "name": "stderr",
     "output_type": "stream",
     "text": [
      "/usr/local/lib/python3.6/dist-packages/sklearn/metrics/classification.py:1135: UndefinedMetricWarning: Precision and F-score are ill-defined and being set to 0.0 in labels with no predicted samples.\n",
      "  'precision', 'predicted', average, warn_for)\n"
     ]
    }
   ],
   "source": [
    "#贝叶斯多分类逻辑回归\n",
    "import theano\n",
    "import pymc3 as pm\n",
    "from sklearn.model_selection import train_test_split\n",
    "import pandas as pd\n",
    "from sklearn.metrics import accuracy_score,classification_report\n",
    "import theano.tensor as tt\n",
    "from sklearn import datasets\n",
    "import time\n",
    "import numpy as np\n",
    "starttime = time.time()\n",
    "#1.加载训练文件\n",
    "data = pd.read_csv(\"/data/fjsdata/mathVR10W.csv\",sep='|',low_memory=False)\n",
    "print (data.shape)\n",
    "#2.构造训练集和测试集\n",
    "X_train, X_test, Y_train, Y_test = train_test_split(data.drop(columns=['quid','qdiff']), data['qdiff'], test_size=.2)#8成训练，2成测试\n",
    "#3.构建softmax regression model\n",
    "X_input = theano.shared(X_train.values)#转numpy array\n",
    "Y_output = theano.shared(Y_train.values)#转numpy array\n",
    "with pm.Model() as EDP_model:\n",
    "    beta = pm.Normal('beta', mu=0, sd=6, shape=(3584,6))\n",
    "    alpha = pm.Normal('alfa', mu=0, sd=6, shape=6)\n",
    "    mu = tt.dot(X_input,beta) + alpha\n",
    "    p = pm.Deterministic('p', tt.nnet.softmax(mu))\n",
    "    Y_obs = pm.Categorical('Y_obs', p=p, observed=Y_output)\n",
    "#4.nuts采样\n",
    "with EDP_model:\n",
    "    start=pm.find_MAP()  # 参数初猜\n",
    "    step = pm.Metropolis()#多分类采样#step = pm.NUTS()连续采样\n",
    "    trace = pm.sample(1000,start=start,step=step,chains=2,cores=2)\n",
    "    #pm.traceplot(trace)\n",
    "X_input.set_value(X_test.values)#测试集\n",
    "Y_output.set_value(Y_test.values)#测试集\n",
    "with EDP_model:\n",
    "    ppc = pm.sample_posterior_predictive(trace)#后验预测 \n",
    "    Y_pred = ppc['Y_obs'].mean(axis=0)\n",
    "print ('测试集准确率：%f'% accuracy_score(Y_test,Y_pred.round()))\n",
    "print (classification_report(Y_test,Y_pred.round()))\n",
    "endtime = time.time()\n",
    "print (\"Complete time: %f s\" % (endtime - starttime))"
   ]
  },
  {
   "cell_type": "code",
   "execution_count": 3,
   "metadata": {},
   "outputs": [
    {
     "name": "stderr",
     "output_type": "stream",
     "text": [
      "/usr/local/lib/python3.6/dist-packages/sklearn/cross_validation.py:41: DeprecationWarning: This module was deprecated in version 0.18 in favor of the model_selection module into which all the refactored classes and functions are moved. Also note that the interface of the new CV iterators are different from that of this module. This module will be removed in 0.20.\n",
      "  \"This module will be removed in 0.20.\", DeprecationWarning)\n"
     ]
    },
    {
     "name": "stdout",
     "output_type": "stream",
     "text": [
      "(100000, 3586)\n",
      "测试集准确率：0.839450\n",
      "             precision    recall  f1-score   support\n",
      "\n",
      "        0.0       1.00      1.00      1.00     13047\n",
      "        1.0       0.00      0.00      0.00        28\n",
      "        2.0       0.00      0.00      0.00       974\n",
      "        3.0       0.54      1.00      0.70      3748\n",
      "        4.0       0.00      0.00      0.00      2174\n",
      "        5.0       0.00      0.00      0.00        29\n",
      "\n",
      "avg / total       0.75      0.84      0.78     20000\n",
      "\n",
      "Complete time: 404.423762 s\n"
     ]
    },
    {
     "name": "stderr",
     "output_type": "stream",
     "text": [
      "/usr/local/lib/python3.6/dist-packages/sklearn/metrics/classification.py:1135: UndefinedMetricWarning: Precision and F-score are ill-defined and being set to 0.0 in labels with no predicted samples.\n",
      "  'precision', 'predicted', average, warn_for)\n"
     ]
    }
   ],
   "source": [
    "#多分类逻辑回归\n",
    "import pandas as pd\n",
    "import numpy as np\n",
    "from sklearn.cross_validation import train_test_split\n",
    "from sklearn.linear_model import LogisticRegression\n",
    "from sklearn.metrics import accuracy_score,classification_report\n",
    "import time\n",
    "start = time.time()\n",
    "#1.加载训练文件\n",
    "data = pd.read_csv(\"/data/fjsdata/mathVR10W.csv\",sep='|',low_memory=False)\n",
    "print (data.shape)\n",
    "#2.构造训练集和测试集\n",
    "X_train, X_test, Y_train, Y_test = train_test_split(data.drop(columns=['quid','qdiff']), data['qdiff'], test_size=.2)#8成训练，2成测试\n",
    "#3.lr多分类\n",
    "clf = LogisticRegression(penalty='l2',random_state=0, solver='lbfgs', multi_class='multinomial').fit(X_train,Y_train)\n",
    "#4.预测\n",
    "Y_pred= clf.predict(X_test)\n",
    "print ('测试集准确率：%f'% accuracy_score(Y_test, Y_pred))\n",
    "print (classification_report(Y_test,Y_pred))\n",
    "end = time.time()\n",
    "print (\"Complete time: %f s\" % (end - start))"
   ]
  },
  {
   "cell_type": "code",
   "execution_count": 4,
   "metadata": {},
   "outputs": [
    {
     "name": "stdout",
     "output_type": "stream",
     "text": [
      "(100000, 3586)\n",
      "测试集准确率：0.837250\n",
      "             precision    recall  f1-score   support\n",
      "\n",
      "        0.0       1.00      1.00      1.00     12974\n",
      "        1.0       0.00      0.00      0.00        31\n",
      "        2.0       0.00      0.00      0.00       955\n",
      "        3.0       0.54      1.00      0.70      3773\n",
      "        4.0       0.00      0.00      0.00      2250\n",
      "        5.0       0.00      0.00      0.00        17\n",
      "\n",
      "avg / total       0.75      0.84      0.78     20000\n",
      "\n",
      "Complete time: 413.102002 s\n"
     ]
    }
   ],
   "source": [
    "#多分类神经网络\n",
    "import pandas as pd\n",
    "import numpy as np\n",
    "from sklearn.cross_validation import train_test_split\n",
    "from sklearn.neural_network import MLPClassifier\n",
    "from sklearn.metrics import accuracy_score,classification_report\n",
    "import time\n",
    "start = time.time()\n",
    "#1.加载训练文件\n",
    "data = pd.read_csv(\"/data/fjsdata/mathVR10W.csv\",sep='|',low_memory=False)\n",
    "print (data.shape)\n",
    "#2.构造训练集和测试集\n",
    "X_train, X_test, Y_train, Y_test = train_test_split(data.drop(columns=['quid','qdiff']), data['qdiff'], test_size=.2)#8成训练，2成测试\n",
    "#3.多分类\n",
    "clf = MLPClassifier(hidden_layer_sizes=(100,100,100),solver='sgd').fit(X_train,Y_train)\n",
    "#4.预测\n",
    "Y_pred= clf.predict(X_test)\n",
    "print ('测试集准确率：%f'% accuracy_score(Y_test, Y_pred))\n",
    "print (classification_report(Y_test,Y_pred))\n",
    "end = time.time()\n",
    "print (\"Complete time: %f s\" % (end - start))"
   ]
  },
  {
   "cell_type": "code",
   "execution_count": 5,
   "metadata": {},
   "outputs": [
    {
     "name": "stdout",
     "output_type": "stream",
     "text": [
      "(100000, 3586)\n",
      "测试集准确率：0.838600\n",
      "             precision    recall  f1-score   support\n",
      "\n",
      "        0.0       1.00      1.00      1.00     12909\n",
      "        1.0       0.00      0.00      0.00        19\n",
      "        2.0       0.00      0.00      0.00      1004\n",
      "        3.0       0.55      1.00      0.71      3871\n",
      "        4.0       0.00      0.00      0.00      2175\n",
      "        5.0       0.00      0.00      0.00        22\n",
      "\n",
      "avg / total       0.75      0.84      0.78     20000\n",
      "\n",
      "Complete time: 326.816416 s\n"
     ]
    }
   ],
   "source": [
    "#决策树分类\n",
    "import pandas as pd\n",
    "import numpy as np\n",
    "from sklearn.cross_validation import train_test_split\n",
    "from sklearn.tree import DecisionTreeClassifier\n",
    "from sklearn.metrics import accuracy_score,classification_report\n",
    "import time\n",
    "start = time.time()\n",
    "#1.加载训练文件\n",
    "data = pd.read_csv(\"/data/fjsdata/mathVR10W.csv\",sep='|',low_memory=False)\n",
    "print (data.shape)\n",
    "#2.构造训练集和测试集\n",
    "X_train, X_test, Y_train, Y_test = train_test_split(data.drop(columns=['quid','qdiff']), data['qdiff'], test_size=.2)#8成训练，2成测试\n",
    "#3.决策树分类\n",
    "clf = DecisionTreeClassifier().fit(X_train,Y_train)\n",
    "#4.预测\n",
    "Y_pred= clf.predict(X_test)\n",
    "print ('测试集准确率：%f'% accuracy_score(Y_test, Y_pred))\n",
    "print (classification_report(Y_test,Y_pred))\n",
    "end = time.time()\n",
    "print (\"Complete time: %f s\" % (end - start))"
   ]
  },
  {
   "cell_type": "code",
   "execution_count": 6,
   "metadata": {},
   "outputs": [
    {
     "name": "stdout",
     "output_type": "stream",
     "text": [
      "(100000, 3586)\n",
      "[1]\tvalid_0's multi_logloss: 0.920791\n",
      "[2]\tvalid_0's multi_logloss: 0.853038\n",
      "[3]\tvalid_0's multi_logloss: 0.796912\n",
      "[4]\tvalid_0's multi_logloss: 0.749453\n",
      "[5]\tvalid_0's multi_logloss: 0.708744\n",
      "[6]\tvalid_0's multi_logloss: 0.673449\n",
      "[7]\tvalid_0's multi_logloss: 0.642601\n",
      "[8]\tvalid_0's multi_logloss: 0.615458\n",
      "[9]\tvalid_0's multi_logloss: 0.591449\n",
      "[10]\tvalid_0's multi_logloss: 0.570116\n",
      "[11]\tvalid_0's multi_logloss: 0.551089\n",
      "[12]\tvalid_0's multi_logloss: 0.53406\n",
      "[13]\tvalid_0's multi_logloss: 0.518781\n",
      "[14]\tvalid_0's multi_logloss: 0.505032\n",
      "[15]\tvalid_0's multi_logloss: 0.492634\n",
      "[16]\tvalid_0's multi_logloss: 0.481426\n",
      "[17]\tvalid_0's multi_logloss: 0.471287\n",
      "[18]\tvalid_0's multi_logloss: 0.462083\n",
      "[19]\tvalid_0's multi_logloss: 0.453726\n",
      "[20]\tvalid_0's multi_logloss: 0.446119\n",
      "[21]\tvalid_0's multi_logloss: 0.439196\n",
      "[22]\tvalid_0's multi_logloss: 0.432868\n",
      "[23]\tvalid_0's multi_logloss: 0.427088\n",
      "[24]\tvalid_0's multi_logloss: 0.421813\n",
      "[25]\tvalid_0's multi_logloss: 0.416978\n",
      "[26]\tvalid_0's multi_logloss: 0.412553\n",
      "[27]\tvalid_0's multi_logloss: 0.40849\n",
      "[28]\tvalid_0's multi_logloss: 0.404761\n",
      "[29]\tvalid_0's multi_logloss: 0.401338\n",
      "[30]\tvalid_0's multi_logloss: 0.398182\n",
      "[31]\tvalid_0's multi_logloss: 0.395275\n",
      "[32]\tvalid_0's multi_logloss: 0.3926\n",
      "[33]\tvalid_0's multi_logloss: 0.390129\n",
      "[34]\tvalid_0's multi_logloss: 0.387852\n",
      "[35]\tvalid_0's multi_logloss: 0.385744\n",
      "[36]\tvalid_0's multi_logloss: 0.383794\n",
      "[37]\tvalid_0's multi_logloss: 0.38199\n",
      "[38]\tvalid_0's multi_logloss: 0.380323\n",
      "[39]\tvalid_0's multi_logloss: 0.378774\n",
      "[40]\tvalid_0's multi_logloss: 0.377336\n",
      "[41]\tvalid_0's multi_logloss: 0.376006\n",
      "[42]\tvalid_0's multi_logloss: 0.374763\n",
      "[43]\tvalid_0's multi_logloss: 0.373611\n",
      "[44]\tvalid_0's multi_logloss: 0.372535\n",
      "[45]\tvalid_0's multi_logloss: 0.371542\n",
      "[46]\tvalid_0's multi_logloss: 0.370613\n",
      "[47]\tvalid_0's multi_logloss: 0.369749\n",
      "[48]\tvalid_0's multi_logloss: 0.368941\n",
      "[49]\tvalid_0's multi_logloss: 0.368196\n",
      "[50]\tvalid_0's multi_logloss: 0.36749\n",
      "[51]\tvalid_0's multi_logloss: 0.366834\n",
      "[52]\tvalid_0's multi_logloss: 0.366222\n",
      "[53]\tvalid_0's multi_logloss: 0.365649\n",
      "[54]\tvalid_0's multi_logloss: 0.365116\n",
      "[55]\tvalid_0's multi_logloss: 0.364615\n",
      "[56]\tvalid_0's multi_logloss: 0.364149\n",
      "[57]\tvalid_0's multi_logloss: 0.363713\n",
      "[58]\tvalid_0's multi_logloss: 0.363308\n",
      "[59]\tvalid_0's multi_logloss: 0.362926\n",
      "[60]\tvalid_0's multi_logloss: 0.362572\n",
      "[61]\tvalid_0's multi_logloss: 0.362238\n",
      "[62]\tvalid_0's multi_logloss: 0.361932\n",
      "[63]\tvalid_0's multi_logloss: 0.361638\n",
      "[64]\tvalid_0's multi_logloss: 0.36136\n",
      "[65]\tvalid_0's multi_logloss: 0.3611\n",
      "[66]\tvalid_0's multi_logloss: 0.360862\n",
      "[67]\tvalid_0's multi_logloss: 0.360635\n",
      "[68]\tvalid_0's multi_logloss: 0.36042\n",
      "[69]\tvalid_0's multi_logloss: 0.360225\n",
      "[70]\tvalid_0's multi_logloss: 0.360037\n",
      "[71]\tvalid_0's multi_logloss: 0.359868\n",
      "[72]\tvalid_0's multi_logloss: 0.359707\n",
      "[73]\tvalid_0's multi_logloss: 0.359552\n",
      "[74]\tvalid_0's multi_logloss: 0.359414\n",
      "[75]\tvalid_0's multi_logloss: 0.359283\n",
      "[76]\tvalid_0's multi_logloss: 0.359164\n",
      "[77]\tvalid_0's multi_logloss: 0.359052\n",
      "[78]\tvalid_0's multi_logloss: 0.35894\n",
      "[79]\tvalid_0's multi_logloss: 0.358842\n",
      "[80]\tvalid_0's multi_logloss: 0.358744\n",
      "[81]\tvalid_0's multi_logloss: 0.358655\n",
      "[82]\tvalid_0's multi_logloss: 0.358572\n",
      "[83]\tvalid_0's multi_logloss: 0.358494\n",
      "[84]\tvalid_0's multi_logloss: 0.358423\n",
      "[85]\tvalid_0's multi_logloss: 0.358358\n",
      "[86]\tvalid_0's multi_logloss: 0.35829\n",
      "[87]\tvalid_0's multi_logloss: 0.358229\n",
      "[88]\tvalid_0's multi_logloss: 0.358172\n",
      "[89]\tvalid_0's multi_logloss: 0.358119\n",
      "[90]\tvalid_0's multi_logloss: 0.358067\n",
      "[91]\tvalid_0's multi_logloss: 0.35802\n",
      "[92]\tvalid_0's multi_logloss: 0.357973\n",
      "[93]\tvalid_0's multi_logloss: 0.357936\n",
      "[94]\tvalid_0's multi_logloss: 0.3579\n",
      "[95]\tvalid_0's multi_logloss: 0.357863\n",
      "[96]\tvalid_0's multi_logloss: 0.357828\n",
      "[97]\tvalid_0's multi_logloss: 0.357798\n",
      "[98]\tvalid_0's multi_logloss: 0.35777\n",
      "[99]\tvalid_0's multi_logloss: 0.357744\n",
      "[100]\tvalid_0's multi_logloss: 0.357724\n",
      "测试集准确率：0.838850\n",
      "             precision    recall  f1-score   support\n",
      "\n",
      "        0.0       1.00      1.00      1.00     12895\n",
      "        1.0       0.00      0.00      0.00        20\n",
      "        2.0       0.00      0.00      0.00       963\n",
      "        3.0       0.55      1.00      0.71      3888\n",
      "        4.0       0.00      0.00      0.00      2213\n",
      "        5.0       0.00      0.00      0.00        21\n",
      "\n",
      "avg / total       0.75      0.84      0.78     20000\n",
      "\n",
      "Complete time: 1654.408745 s\n"
     ]
    }
   ],
   "source": [
    "#LGBM集成学习分类\n",
    "import pandas as pd\n",
    "import numpy as np\n",
    "from sklearn.cross_validation import train_test_split\n",
    "import lightgbm as lgb\n",
    "from sklearn.metrics import accuracy_score,classification_report\n",
    "import time\n",
    "start = time.time()\n",
    "#1.加载训练文件\n",
    "data = pd.read_csv(\"/data/fjsdata/mathVR10W.csv\",sep='|',low_memory=False)\n",
    "print (data.shape)\n",
    "#2.构造训练集和测试集\n",
    "X_train, X_test, Y_train, Y_test = train_test_split(data.drop(columns=['quid','qdiff']), data['qdiff'], test_size=.2)#8成训练，2成测试\n",
    "train_data=lgb.Dataset(X_train,label=Y_train)\n",
    "validation_data=lgb.Dataset(X_test,label=Y_test)\n",
    "#3.LGBM集成学习分类\n",
    "params={'learning_rate':0.1,\n",
    "        'lambda_l1':0.1,\n",
    "        'lambda_l2':0.2,\n",
    "        'max_depth':4,\n",
    "        'objective':'multiclass',\n",
    "        'num_class':6}\n",
    "clf=lgb.train(params,train_data,valid_sets=[validation_data])\n",
    "#4.预测\n",
    "Y_pred= clf.predict(X_test)\n",
    "Y_pred=[list(x).index(max(x)) for x in Y_pred]\n",
    "print ('测试集准确率：%f'% accuracy_score(Y_test, Y_pred))\n",
    "print (classification_report(Y_test,Y_pred))\n",
    "end = time.time()\n",
    "print (\"Complete time: %f s\" % (end - start))"
   ]
  },
  {
   "cell_type": "code",
   "execution_count": null,
   "metadata": {},
   "outputs": [],
   "source": []
  }
 ],
 "metadata": {
  "kernelspec": {
   "display_name": "Python 3",
   "language": "python",
   "name": "python3"
  },
  "language_info": {
   "codemirror_mode": {
    "name": "ipython",
    "version": 3
   },
   "file_extension": ".py",
   "mimetype": "text/x-python",
   "name": "python",
   "nbconvert_exporter": "python",
   "pygments_lexer": "ipython3",
   "version": "3.6.6"
  }
 },
 "nbformat": 4,
 "nbformat_minor": 2
}
