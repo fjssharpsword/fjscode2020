{
 "cells": [
  {
   "cell_type": "code",
   "execution_count": 2,
   "metadata": {},
   "outputs": [
    {
     "name": "stdout",
     "output_type": "stream",
     "text": [
      "Dataset shape of month 6 is:83137 rows and 11 columns\n",
      "        0  1    2  3     4           5   6     7           8   \\\n",
      "0  1076789  2  叶学诗  女  Ⅰ级护理  高血压3级 极高危组                         \n",
      "1  1076789                                         高血压3级 极高危组   \n",
      "2  1076789                                         高血压3级 极高危组   \n",
      "3  1076789                                         高血压3级 极高危组   \n",
      "4  1076789                               体温  36.5               \n",
      "\n",
      "                                                  9                        10  \n",
      "0                                                     2017-05-04 10:37:51.000  \n",
      "1                                                NaN  2017-05-04 11:12:28.417  \n",
      "2                                                NaN  2017-05-04 11:12:28.417  \n",
      "3  来时对症宣教，通知医生接诊，入院测随机血糖：6.2mmol/L，患者年老体弱，跌倒坠床高危评...  2017-05-05 07:20:14.637  \n",
      "4                                                     2017-05-06 07:00:00.000  \n"
     ]
    }
   ],
   "source": [
    "'''\n",
    "病人基础信息(patientID, Inhostimes, sex, age, nurselevel, Diagnosis)\n",
    "病情信息(Signsname,Signsvalue)\n",
    "交班内容(dutyContent)+日期时间(Time)\n",
    "'''\n",
    "import pandas as pd\n",
    "#测试数据_医嘱护理测试数据\n",
    "data = pd.read_csv(\"/data/fjsdata/nursereport/patient_times.csv\", sep=',', header=None, low_memory=False,encoding='GBK')\n",
    "print ('Dataset shape of month 6 is:%d rows and %d columns'%(data.shape[0],data.shape[1]))\n",
    "print (data.head())"
   ]
  },
  {
   "cell_type": "code",
   "execution_count": 19,
   "metadata": {},
   "outputs": [
    {
     "name": "stdout",
     "output_type": "stream",
     "text": [
      "Dataset shape of month 6 is:83137 rows and 11 columns\n"
     ]
    },
    {
     "name": "stderr",
     "output_type": "stream",
     "text": [
      "/usr/local/lib/python3.6/dist-packages/ipykernel_launcher.py:28: DeprecationWarning: Call to deprecated `iter` (Attribute will be removed in 4.0.0, use self.epochs instead).\n",
      "/usr/local/lib/python3.6/dist-packages/ipykernel_launcher.py:29: DeprecationWarning: Call to deprecated `most_similar` (Method will be removed in 4.0.0, use self.wv.most_similar() instead).\n"
     ]
    },
    {
     "name": "stdout",
     "output_type": "stream",
     "text": [
      "[(' ', 0.9860588312149048), ('醇', 0.9133349657058716), ('?', 0.9099501371383667), ('贫', 0.9012514352798462), ('综', 0.8895394802093506), ('征', 0.8869002461433411), ('酮', 0.8851341009140015), ('？', 0.8838106989860535), ('物', 0.8806770443916321), ('合', 0.8757550716400146)]\n"
     ]
    }
   ],
   "source": [
    "from gensim.models.word2vec import Word2Vec \n",
    "import jieba\n",
    "import numpy as np\n",
    "import pandas as pd\n",
    "#测试数据_医嘱护理测试数据\n",
    "data = pd.read_csv(\"/data/fjsdata/nursereport/patient_times.csv\", sep=',', header=None, \\\n",
    "                   names=['pId','inNum','sex','age','nrLevel','diagCon1','signName','signValue','diagCon2','dutyCon','datetime'], \\\n",
    "                   low_memory=False, encoding='GBK')\n",
    "print ('Dataset shape of month 6 is:%d rows and %d columns'%(data.shape[0],data.shape[1]))\n",
    "#dutyCon空值和缺失值处理\n",
    "data['dutyCon']=data['dutyCon'].apply(lambda x: 0 if str(x).strip()=='' else x)#空值填充\n",
    "data['dutyCon']=data['dutyCon'].fillna(0)#缺失值填充\n",
    "#signName和signVlue 拼接，diagCon1和diagCon2 拼接，signInfo 和 diagCon 拼接成病情描述\n",
    "data['signInfo']=data['signName'].str.cat(data['signValue'],sep=',')\n",
    "data['diagCon']=data['diagCon1'].str.cat(data['diagCon2'],sep=',')\n",
    "data['conCon']=data['diagCon'].str.cat(data['signInfo'],sep=',')\n",
    "#取diagInfo和dutyCon匹配\n",
    "data=data[['conCon','dutyCon']]\n",
    "data=data[data['dutyCon']!=0]\n",
    "data=data.astype(str)\n",
    "txt = data['conCon'].tolist()\n",
    "#结巴分词\n",
    "\n",
    "#文本embedding\n",
    "\n",
    "model= Word2Vec()\n",
    "model.build_vocab(txt)\n",
    "model.train(txt,total_examples = model.corpus_count,epochs = model.iter)\n",
    "print(model.most_similar([',']))"
   ]
  },
  {
   "cell_type": "code",
   "execution_count": null,
   "metadata": {},
   "outputs": [],
   "source": []
  }
 ],
 "metadata": {
  "kernelspec": {
   "display_name": "Python 3",
   "language": "python",
   "name": "python3"
  },
  "language_info": {
   "codemirror_mode": {
    "name": "ipython",
    "version": 3
   },
   "file_extension": ".py",
   "mimetype": "text/x-python",
   "name": "python",
   "nbconvert_exporter": "python",
   "pygments_lexer": "ipython3",
   "version": "3.6.6"
  }
 },
 "nbformat": 4,
 "nbformat_minor": 2
}
