{
 "cells": [
  {
   "cell_type": "code",
   "execution_count": 2,
   "metadata": {},
   "outputs": [
    {
     "name": "stdout",
     "output_type": "stream",
     "text": [
      "1.12.0\n",
      "3.6.6 (default, Jun 28 2018, 04:42:43) \n",
      "[GCC 5.4.0 20160609]\n"
     ]
    }
   ],
   "source": [
    "'''\n",
    "Enviroment: Ubuntu 16.04 + TensorFlow 1.12.0 + cuda 9.0 + python 3.6\n",
    "Dataset: Cityscapes, https://www.kaggle.com/dansbecker/cityscapes-image-pairs\n",
    "Segmentation Model: UNet \n",
    "Adversarial Model: NN\n",
    "Metric: Mean Intersection over Union(MIoU)=TP/(TP+FN+FP)\n",
    "'''\n",
    "import numpy as np\n",
    "import argparse\n",
    "import json\n",
    "from os.path import join\n",
    "import tensorflow as tf\n",
    "import glob\n",
    "from PIL import Image , ImageOps\n",
    "from sklearn.model_selection import train_test_split\n",
    "import matplotlib.pyplot as plt\n",
    "import os\n",
    "import tensorflow.contrib.eager as tfe\n",
    "import sys\n",
    "print(tf.VERSION) \n",
    "print(sys.version)"
   ]
  },
  {
   "cell_type": "code",
   "execution_count": 3,
   "metadata": {},
   "outputs": [
    {
     "name": "stdout",
     "output_type": "stream",
     "text": [
      "The size of feature in Train set is : (2975, 128, 128, 3)\n",
      "The size of label in Train set is : (2975, 128, 128, 1)\n",
      "The size of feature in Val set is: (500, 128, 128, 3)\n",
      "The size of label in Val set is : (500, 128, 128, 1)\n"
     ]
    }
   ],
   "source": [
    "#binarize the value of label to 0 or 1\n",
    "def binarize( pixel ):\n",
    "    if np.array_equal( pixel , [ 128 , 63 , 127 ]): #road\n",
    "        return np.array( [ 1 ] )\n",
    "    else :\n",
    "        return np.array( [ 0 ] )\n",
    "#train set\n",
    "def trainDataset(train_dir):\n",
    "    X_train = list()\n",
    "    Y_train = list()\n",
    "    for filename in os.listdir( train_dir ): \n",
    "        image = Image.open(os.path.join( train_dir, filename))\n",
    "        X_train.append( np.asarray( ImageOps.crop( image , ( 0 , 0 , 256 , 0 ) ).resize( ( 128, 128 )) ) ) #real image\n",
    "        Y_train.append( np.asarray( ImageOps.crop( image, (256, 0, 0, 0)).resize( ( 128 , 128 ) ) )) #labelled image\n",
    "    return np.array(X_train)/255, np.array(Y_train)\n",
    "train_dir = '/data/comcode/models/research/deeplab/datasets/cityscapes/kaggle/train'\n",
    "X_train, Y_train = trainDataset(train_dir)\n",
    "Y_train = np.apply_along_axis( binarize , axis=3 , arr=np.array(Y_train) ) #classify the pixel\n",
    "print ('The size of feature in Train set is : {}'.format(X_train.shape))\n",
    "print ('The size of label in Train set is : {}'.format(Y_train.shape))\n",
    "\n",
    "#val set\n",
    "def valDataset(val_dir):\n",
    "    X_val = list()\n",
    "    Y_val = list()\n",
    "    for filename in os.listdir( val_dir ): \n",
    "        image = Image.open(os.path.join( val_dir, filename))\n",
    "        X_val.append( np.asarray( ImageOps.crop( image , ( 0 , 0 , 256 , 0 ) ).resize( ( 128, 128 )) ) )\n",
    "        Y_val.append( np.asarray( ImageOps.crop( image, (256, 0, 0, 0)).resize( ( 128 , 128 ) ) ))\n",
    "    return np.array(X_val)/255, np.array(Y_val)\n",
    "val_dir = '/data/comcode/models/research/deeplab/datasets/cityscapes/kaggle/val'\n",
    "X_val,Y_val = valDataset(val_dir)\n",
    "Y_val = np.apply_along_axis( binarize , axis=3 , arr=np.array(Y_val) ) #classify the pixel\n",
    "print ('The size of feature in Val set is: {}'.format(X_val.shape))\n",
    "print ('The size of label in Val set is : {}'.format(Y_val.shape))"
   ]
  },
  {
   "cell_type": "code",
   "execution_count": 4,
   "metadata": {},
   "outputs": [],
   "source": [
    "class unet_seg:\n",
    "    def __init__(self, lr=0.001):\n",
    "        #global parameters\n",
    "        self.lr = lr\n",
    "        #set network structure\n",
    "        self.add_placeholders()\n",
    "        self.add_weight()\n",
    "        self.add_model()\n",
    "        self.add_loss()\n",
    "        self.add_optimizer()\n",
    "        self.init_sess()\n",
    "        \n",
    "    def add_placeholders(self):    \n",
    "        self.X_input = tf.placeholder(tf.float32)\n",
    "        self.Y_input = tf.placeholder(tf.float32)\n",
    "    \n",
    "    def add_weight(self):\n",
    "        initializer = tf.initializers.glorot_uniform()\n",
    "        def get_weight( shape , name ):\n",
    "            return tf.Variable( initializer( shape ) , name=name , trainable=True )\n",
    "\n",
    "        shapes = [ [ 3 , 3 , 3 , 16 ] ,   [ 3 , 3 , 16 , 16 ] , \n",
    "                   [ 3 , 3 , 16 , 32 ] ,  [ 3 , 3 , 32 , 32 ] ,\n",
    "                   [ 3 , 3 , 32 , 64 ] ,  [ 3 , 3 , 64 , 64 ] ,\n",
    "                   [ 3 , 3 , 64 , 128 ] , [ 3 , 3 , 128 , 128 ] ,\n",
    "                   [ 3 , 3 , 128 , 256 ] ,[ 3 , 3 , 256 , 256 ] ,\n",
    "                   [ 3 , 3 , 128 , 384 ], [ 3 , 3 , 128 , 128 ],\n",
    "                   [ 3 , 3 , 64 , 192 ],  [ 3 , 3 , 64 , 64 ],\n",
    "                   [ 3 , 3 , 32 , 96 ],   [ 3 , 3 , 32 , 32 ],\n",
    "                   [ 3 , 3 , 16 , 48 ],   [ 3 , 3 , 16 , 16 ],\n",
    "                   [ 1 , 1 , 16 , 1 ] #one dimension of outputs\n",
    "                 ]\n",
    "        weights = []\n",
    "        for i in range( len( shapes ) ):\n",
    "            weights.append( get_weight( shapes[ i ] , 'weight{}'.format( i ) ) )\n",
    "        self.weights = weights\n",
    "        \n",
    "    def add_model(self):\n",
    "        def conv2d_down( inputs , filters , stride_size ):\n",
    "            #print( 'conv2d down' )\n",
    "            out = tf.nn.conv2d( inputs , filters , strides=stride_size , padding='SAME' ) \n",
    "            return tf.nn.leaky_relu( out , alpha=0.2 ) \n",
    "\n",
    "        def maxpool_down( inputs , pool_size , stride_size ):\n",
    "            #print( 'maxpool down' )\n",
    "            return tf.nn.max_pool( inputs , ksize=pool_size , padding='VALID' , strides=stride_size )\n",
    "\n",
    "        def conv2d_up( inputs , filters , stride_size , output_shape ):\n",
    "            #print( 'conv2d up' )\n",
    "            out = tf.nn.conv2d_transpose( inputs , filters , output_shape=output_shape , strides=stride_size , padding='SAME' ) \n",
    "            return tf.nn.leaky_relu( out , alpha=0.2 ) \n",
    "\n",
    "        def maxpool_up( inputs , size ):\n",
    "            #print( 'maxpool up' )\n",
    "            in_dimen = tf.shape( inputs )[ 1 ]\n",
    "            out_dimen = tf.cast( tf.round( in_dimen * size ) , dtype=tf.int32 ) \n",
    "            return tf.image.resize_images( inputs , [ out_dimen , out_dimen ] , method=1 )#nearest\n",
    "        #forward\n",
    "        x = tf.cast(self.X_input , dtype=tf.float32 )\n",
    "        batch_size = tf.shape( x )[0]\n",
    "        c1 = conv2d_down( x , self.weights[ 0 ] , stride_size=[1,1,1,1] ) \n",
    "        c1 = conv2d_down( c1 , self.weights[ 1 ] , stride_size=[1,1,1,1] ) \n",
    "        p1 = maxpool_down( c1 , pool_size=[1,2,2,1] , stride_size=[1,2,2,1] )\n",
    "\n",
    "        c2 = conv2d_down( p1 , self.weights[ 2 ] , stride_size=[1,1,1,1] )\n",
    "        c2 = conv2d_down( c2 , self.weights[ 3 ] , stride_size=[1,1,1,1] ) \n",
    "        p2 = maxpool_down( c2 , pool_size=[1,2,2,1] , stride_size=[1,2,2,1] )\n",
    "\n",
    "        c3 = conv2d_down( p2 , self.weights[ 4 ] , stride_size=[1,1,1,1] ) \n",
    "        c3 = conv2d_down( c3 , self.weights[ 5 ] , stride_size=[1,1,1,1] ) \n",
    "        p3 = maxpool_down( c3 , pool_size=[1,2,2,1] , stride_size=[1,2,2,1] )\n",
    "\n",
    "        c4 = conv2d_down( p3 , self.weights[ 6 ] , stride_size=[1,1,1,1] )\n",
    "        c4 = conv2d_down( c4 , self.weights[ 7 ] , stride_size=[1,1,1,1] )\n",
    "        p4 = maxpool_down( c4 , pool_size=[1,2,2,1] , stride_size=[1,2,2,1] )\n",
    "\n",
    "        c5 = conv2d_down( p4 , self.weights[ 8 ] , stride_size=[1,1,1,1] )\n",
    "        c5 = conv2d_down( c5 , self.weights[ 9 ] , stride_size=[1,1,1,1] )   \n",
    "\n",
    "        p5 = maxpool_up( c5 , 2 )\n",
    "        concat_1 = tf.concat( [ p5 , c4 ] , axis=-1 ) \n",
    "        c6 = conv2d_up( concat_1 , self.weights[ 10 ] , stride_size=[1,1,1,1] , output_shape=[ batch_size , 16 , 16 , 128 ] )\n",
    "        c6 = conv2d_up( c6 , self.weights[ 11 ] , stride_size=[1,1,1,1] , output_shape=[ batch_size , 16 , 16 , 128 ] )  \n",
    "\n",
    "        p6 = maxpool_up( c6 , 2 )\n",
    "        concat_2 = tf.concat( [ p6 , c3 ] , axis=-1 ) \n",
    "        c7 = conv2d_up( concat_2 , self.weights[ 12 ] , stride_size=[1,1,1,1] , output_shape=[ batch_size , 32 , 32 , 64 ] )\n",
    "        c7 = conv2d_up( c7 , self.weights[ 13 ] , stride_size=[1,1,1,1] , output_shape=[ batch_size , 32 , 32 , 64 ] )  \n",
    "\n",
    "        p7 = maxpool_up( c7 , 2 )\n",
    "        concat_3 = tf.concat( [ p7 , c2 ] , axis=-1 ) \n",
    "        c8 = conv2d_up( concat_3 , self.weights[ 14 ] , stride_size=[1,1,1,1] , output_shape=[ batch_size , 64 , 64 , 32 ] )\n",
    "        c8 = conv2d_up( c8 , self.weights[ 15 ] , stride_size=[1,1,1,1] , output_shape=[ batch_size , 64 , 64 , 32 ] )   \n",
    "\n",
    "        p8 = maxpool_up( c8 , 2 )\n",
    "        concat_4 = tf.concat( [ p8 , c1 ] , axis=-1 ) \n",
    "        c9 = conv2d_up( concat_4 , self.weights[ 16 ] , stride_size=[1,1,1,1] , output_shape=[ batch_size , 128 , 128 , 16 ] )\n",
    "        c9 = conv2d_up( c9 , self.weights[ 17 ] , stride_size=[1,1,1,1] , output_shape=[ batch_size , 128 , 128 , 16 ] )  \n",
    "\n",
    "        output = tf.nn.conv2d( c9 , self.weights[ 18 ] , strides=[ 1 , 1 , 1 , 1 ] , padding='SAME' ) \n",
    "        self.Y_output = output\n",
    "    \n",
    "    def add_loss(self):\n",
    "        self.loss = tf.losses.sigmoid_cross_entropy( self.Y_input , self.Y_output ) \n",
    "    \n",
    "    def add_optimizer(self):\n",
    "        optimizer = tf.train.AdamOptimizer(self.lr)\n",
    "        self.train_step = optimizer.minimize(self.loss)\n",
    "        \n",
    "    def init_sess(self):\n",
    "        self.config = tf.ConfigProto()\n",
    "        self.config.gpu_options.allow_growth = True\n",
    "        self.config.allow_soft_placement = True\n",
    "        self.sess = tf.Session(config=self.config)\n",
    "        self.sess.run(tf.global_variables_initializer())\n",
    "#define model\n",
    "tf_model = unet_seg()"
   ]
  },
  {
   "cell_type": "code",
   "execution_count": 5,
   "metadata": {},
   "outputs": [
    {
     "name": "stdout",
     "output_type": "stream",
     "text": [
      "\n",
      "Mean loss in this epoch is: 0.7305876612663269\n",
      "Mean loss in this epoch is: 0.5931650400161743\n",
      "Mean loss in this epoch is: 0.4218599498271942\n",
      "Mean loss in this epoch is: 0.3425488770008087\n",
      "Mean loss in this epoch is: 0.3045673668384552\n",
      "Mean loss in this epoch is: 0.3280353546142578\n",
      "Mean loss in this epoch is: 0.2846531271934509\n",
      "Mean loss in this epoch is: 0.2825884222984314\n",
      "Mean loss in this epoch is: 0.22822946310043335\n",
      "Mean loss in this epoch is: 0.21361865103244781\n",
      "Mean loss in this epoch is: 0.21843676269054413\n",
      "Mean loss in this epoch is: 0.22309380769729614\n",
      "Mean loss in this epoch is: 0.1987653523683548\n",
      "Mean loss in this epoch is: 0.18902094662189484\n",
      "Mean loss in this epoch is: 0.17941035330295563\n",
      "Mean loss in this epoch is: 0.19197547435760498\n",
      "Mean loss in this epoch is: 0.17719970643520355\n",
      "Mean loss in this epoch is: 0.16482874751091003\n",
      "Mean loss in this epoch is: 0.16410814225673676"
     ]
    }
   ],
   "source": [
    "#verbose = 10\n",
    "batchSize=256\n",
    "num_batches = X_train.shape[0] // batchSize + 1 \n",
    "pre_loss = 0.0\n",
    "while True:#convergence\n",
    "    losses = []\n",
    "    for i in range(num_batches):\n",
    "        min_idx = i * batchSize\n",
    "        max_idx = np.min([X_train.shape[0], (i+1)*batchSize])\n",
    "        X_batch = X_train[min_idx: max_idx]\n",
    "        Y_batch = Y_train[min_idx: max_idx]\n",
    "        _, tmp_loss = tf_model.sess.run([tf_model.train_step, tf_model.loss], \n",
    "                                         feed_dict={tf_model.X_input: X_batch,tf_model.Y_input: Y_batch})\n",
    "        losses.append(tmp_loss)\n",
    "        #if verbose and i % verbose == 0:\n",
    "        #    sys.stdout.write('\\r{} / {} : loss = {}'.format(i, num_batches, np.mean(losses[-verbose:])))\n",
    "        #    sys.stdout.flush()\n",
    "    sys.stdout.write(\"\\nMean loss in this epoch is: {}\".format( np.mean(losses) ))\n",
    "    sys.stdout.flush()\n",
    "    #whether convergence\n",
    "    if abs( np.mean(losses) - pre_loss)<0.001:\n",
    "        break\n",
    "    else:\n",
    "        pre_loss = np.mean(losses)"
   ]
  },
  {
   "cell_type": "code",
   "execution_count": 6,
   "metadata": {},
   "outputs": [
    {
     "name": "stdout",
     "output_type": "stream",
     "text": [
      "166 / 500 : IoU = 0.7104994903160041"
     ]
    },
    {
     "name": "stderr",
     "output_type": "stream",
     "text": [
      "/usr/local/lib/python3.6/dist-packages/ipykernel_launcher.py:2: RuntimeWarning: overflow encountered in exp\n",
      "  \n"
     ]
    },
    {
     "name": "stdout",
     "output_type": "stream",
     "text": [
      "499 / 500 : IoU = 0.76837349397590366===> mIoU: 72.66\n"
     ]
    }
   ],
   "source": [
    "def sigmoid(x):\n",
    "    s = 1/(1+np.exp(-x)) \n",
    "    return s\n",
    "#performance Structural segmentation (four categories)\n",
    "Y_pred = tf_model.sess.run(tf_model.Y_output, feed_dict={tf_model.X_input: X_val,tf_model.Y_input: Y_val}) #prediction\n",
    "Y_pred = sigmoid(Y_pred)\n",
    "mIoUs = []\n",
    "intersection = []\n",
    "union = []\n",
    "for i in range(len(Y_val)):\n",
    "    a = Y_pred[i]\n",
    "    a = np.where(a.flatten()>0.5,1,0)\n",
    "    b = Y_val[i].flatten()\n",
    "    intersection=np.logical_and(a,b)\n",
    "    union=np.logical_or(a,b)\n",
    "    iou_score = np.sum(intersection) / np.sum(union)\n",
    "    mIoUs.append(iou_score)\n",
    "    sys.stdout.write('\\r{} / {} : IoU = {}'.format(i, len(Y_val), iou_score))\n",
    "    sys.stdout.flush()\n",
    "print('===> mIoU: ' + str(round(np.nanmean(mIoUs) * 100, 2)))"
   ]
  },
  {
   "cell_type": "code",
   "execution_count": 7,
   "metadata": {},
   "outputs": [
    {
     "name": "stderr",
     "output_type": "stream",
     "text": [
      "Clipping input data to the valid range for imshow with RGB data ([0..1] for floats or [0..255] for integers).\n",
      "Clipping input data to the valid range for imshow with RGB data ([0..1] for floats or [0..255] for integers).\n"
     ]
    },
    {
     "data": {
      "image/png": "[encoded data removed]",
      "text/plain": [
       "<Figure size 432x288 with 3 Axes>"
      ]
     },
     "metadata": {
      "needs_background": "light"
     },
     "output_type": "display_data"
    }
   ],
   "source": [
    "#for classification\n",
    "Y_image = np.zeros( ( 128 , 128 , 3 ) )\n",
    "for x in range( 128 ):\n",
    "    for y in range( 128 ):\n",
    "        if Y_val[0, x , y ] > 0.5:\n",
    "            Y_image[ x , y ] = [ 255 , 255 , 255 ]\n",
    "        else:\n",
    "            Y_image[ x , y ] = [ 0, 0, 0]    \n",
    "            \n",
    "Y_pred = tf_model.sess.run(tf_model.Y_output, feed_dict={tf_model.X_input: X_val[0:1],tf_model.Y_input: Y_val[0:1]})\n",
    "Y_pred = sigmoid(Y_pred)\n",
    "image = np.zeros( ( 128 , 128 , 3 ) )\n",
    "for x in range( 128 ):\n",
    "    for y in range( 128 ):\n",
    "        if Y_pred[0, x , y ] > 0.5:\n",
    "            image[ x , y ] = [ 255 , 255 , 255 ]\n",
    "        else:\n",
    "            image[ x , y ] = [ 0, 0, 0]\n",
    "            \n",
    "def show_images(images: list):\n",
    "    n = len(images)\n",
    "    f = plt.figure()\n",
    "    for i in range(n):\n",
    "        f.add_subplot(1, n, i + 1)\n",
    "        plt.imshow(images[i] , interpolation='none' )\n",
    "    plt.show()\n",
    "    \n",
    "show_images( [ X_val[0], Y_image, image ] )"
   ]
  },
  {
   "cell_type": "code",
   "execution_count": 8,
   "metadata": {},
   "outputs": [],
   "source": [
    "#generate adversarial samples of val\n",
    "tf.logging.set_verbosity(tf.logging.ERROR)\n",
    "sess = tf.InteractiveSession()\n",
    "x_hat = tf.Variable(tf.zeros((128, 128, 3)))\n",
    "x = tf.placeholder(tf.float32, (128, 128, 3))\n",
    "assign_op = tf.assign(x_hat, x)\n",
    "demo_epsilon = 2.0/255.0 \n",
    "epsilon = tf.placeholder(tf.float32, ())\n",
    "below = x - epsilon\n",
    "above = x + epsilon\n",
    "projected = tf.clip_by_value(tf.clip_by_value(x_hat, below, above), 0, 1)\n",
    "with tf.control_dependencies([projected]):\n",
    "    project_step = tf.assign(x_hat, projected)\n",
    "#load val images\n",
    "X_val_ad = []\n",
    "for i in range(len(X_val)):\n",
    "    img = X_val[i]\n",
    "    #initializer\n",
    "    sess.run(assign_op, feed_dict={x: img})\n",
    "    #make small perturbation  \n",
    "    x_hat_ad = sess.run(project_step, feed_dict={x: img, epsilon: demo_epsilon})\n",
    "    X_val_ad.append(x_hat_ad)"
   ]
  },
  {
   "cell_type": "code",
   "execution_count": 10,
   "metadata": {},
   "outputs": [
    {
     "name": "stdout",
     "output_type": "stream",
     "text": [
      "203 / 500 : IoU = 0.54023948760790865"
     ]
    },
    {
     "name": "stderr",
     "output_type": "stream",
     "text": [
      "/usr/local/lib/python3.6/dist-packages/ipykernel_launcher.py:3: RuntimeWarning: overflow encountered in exp\n",
      "  This is separate from the ipykernel package so we can avoid doing imports until\n"
     ]
    },
    {
     "name": "stdout",
     "output_type": "stream",
     "text": [
      "499 / 500 : IoU = 0.76837349397590366===> mIoU: 72.66\n"
     ]
    }
   ],
   "source": [
    "#performance of adversarial val\n",
    "def sigmoid(x):\n",
    "    s = 1/(1+np.exp(-x)) \n",
    "    return s\n",
    "#performance Structural segmentation (four categories)\n",
    "Y_pred = tf_model.sess.run(tf_model.Y_output, feed_dict={tf_model.X_input: np.array(X_val_ad),tf_model.Y_input: Y_val}) #prediction\n",
    "Y_pred = sigmoid(Y_pred)\n",
    "mIoUs = []\n",
    "intersection = []\n",
    "union = []\n",
    "for i in range(len(Y_val)):\n",
    "    a = Y_pred[i]\n",
    "    a = np.where(a.flatten()>0.5,1,0)\n",
    "    b = Y_val[i].flatten()\n",
    "    intersection=np.logical_and(a,b)\n",
    "    union=np.logical_or(a,b)\n",
    "    iou_score = np.sum(intersection) / np.sum(union)\n",
    "    mIoUs.append(iou_score)\n",
    "    sys.stdout.write('\\r{} / {} : IoU = {}'.format(i, len(Y_val), iou_score))\n",
    "    sys.stdout.flush()\n",
    "print('===> mIoU: ' + str(round(np.nanmean(mIoUs) * 100, 2)))"
   ]
  },
  {
   "cell_type": "code",
   "execution_count": 11,
   "metadata": {},
   "outputs": [
    {
     "name": "stderr",
     "output_type": "stream",
     "text": [
      "Clipping input data to the valid range for imshow with RGB data ([0..1] for floats or [0..255] for integers).\n",
      "Clipping input data to the valid range for imshow with RGB data ([0..1] for floats or [0..255] for integers).\n"
     ]
    },
    {
     "data": {
      "image/png": "[encoded data removed]",
      "text/plain": [
       "<Figure size 432x288 with 3 Axes>"
      ]
     },
     "metadata": {
      "needs_background": "light"
     },
     "output_type": "display_data"
    }
   ],
   "source": [
    "#for classification\n",
    "Y_image = np.zeros( ( 128 , 128 , 3 ) )\n",
    "for x in range( 128 ):\n",
    "    for y in range( 128 ):\n",
    "        if Y_val[0, x , y ] > 0.5:\n",
    "            Y_image[ x , y ] = [ 255 , 255 , 255 ]\n",
    "        else:\n",
    "            Y_image[ x , y ] = [ 0, 0, 0]    \n",
    "            \n",
    "Y_pred = tf_model.sess.run(tf_model.Y_output, feed_dict={tf_model.X_input: np.array(X_val_ad)[0:1],tf_model.Y_input: Y_val[0:1]})\n",
    "Y_pred = sigmoid(Y_pred)\n",
    "image = np.zeros( ( 128 , 128 , 3 ) )\n",
    "for x in range( 128 ):\n",
    "    for y in range( 128 ):\n",
    "        if Y_pred[0, x , y ] > 0.5:\n",
    "            image[ x , y ] = [ 255 , 255 , 255 ]\n",
    "        else:\n",
    "            image[ x , y ] = [ 0, 0, 0]\n",
    "            \n",
    "def show_images(images: list):\n",
    "    n = len(images)\n",
    "    f = plt.figure()\n",
    "    for i in range(n):\n",
    "        f.add_subplot(1, n, i + 1)\n",
    "        plt.imshow(images[i] , interpolation='none' )\n",
    "    plt.show()\n",
    "    \n",
    "show_images( [ np.array(X_val_ad)[0], Y_image, image ] )"
   ]
  },
  {
   "cell_type": "code",
   "execution_count": null,
   "metadata": {},
   "outputs": [],
   "source": []
  }
 ],
 "metadata": {
  "kernelspec": {
   "display_name": "Python 3",
   "language": "python",
   "name": "python3"
  },
  "language_info": {
   "codemirror_mode": {
    "name": "ipython",
    "version": 3
   },
   "file_extension": ".py",
   "mimetype": "text/x-python",
   "name": "python",
   "nbconvert_exporter": "python",
   "pygments_lexer": "ipython3",
   "version": "3.7.4"
  }
 },
 "nbformat": 4,
 "nbformat_minor": 2
}
