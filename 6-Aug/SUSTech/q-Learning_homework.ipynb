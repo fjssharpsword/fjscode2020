{
 "cells": [
  {
   "cell_type": "markdown",
   "metadata": {},
   "source": [
    "# Q-Learning"
   ]
  },
  {
   "cell_type": "markdown",
   "metadata": {},
   "source": [
    "In this homework, you should complete the Q-learning algorithm for the environment gym taxi"
   ]
  },
  {
   "cell_type": "code",
   "execution_count": 2,
   "metadata": {},
   "outputs": [],
   "source": [
    "import gym\n",
    "import numpy as np\n",
    "import random\n",
    "\n",
    "# the None is the position you should modeify to complete the algorithm"
   ]
  },
  {
   "cell_type": "markdown",
   "metadata": {},
   "source": [
    "## Step 1 Creat the environment\n",
    "Using the API imported from gym"
   ]
  },
  {
   "cell_type": "code",
   "execution_count": 3,
   "metadata": {},
   "outputs": [
    {
     "name": "stdout",
     "output_type": "stream",
     "text": [
      "+---------+\n",
      "|R: | : :\u001b[34;1mG\u001b[0m|\n",
      "| : |\u001b[43m \u001b[0m: : |\n",
      "| : : : : |\n",
      "| | : | : |\n",
      "|\u001b[35mY\u001b[0m| : |B: |\n",
      "+---------+\n",
      "\n"
     ]
    }
   ],
   "source": [
    "env = gym.make('Taxi-v3')\n",
    "env.render()"
   ]
  },
  {
   "cell_type": "markdown",
   "metadata": {},
   "source": [
    "## Step 2  Create the Q-table and initialize it"
   ]
  },
  {
   "cell_type": "raw",
   "metadata": {},
   "source": [
    "# You can use the gym api to fetch the dimension of action space and state space\n",
    "https://www.learndatasci.com/tutorials/reinforcement-q-learning-scratch-python-openai-gym/"
   ]
  },
  {
   "cell_type": "code",
   "execution_count": 7,
   "metadata": {},
   "outputs": [
    {
     "name": "stdout",
     "output_type": "stream",
     "text": [
      "Action Space Discrete(6)\n",
      "State Space Discrete(500)\n",
      "(500, 6)\n"
     ]
    }
   ],
   "source": [
    "action_space = env.action_space\n",
    "state_space = env.observation_space\n",
    "print(\"Action Space {}\".format(action_space))\n",
    "print(\"State Space {}\".format(state_space))\n",
    "\n",
    "#Please complete this initialization in this line\n",
    "Q_table = np.zeros([env.observation_space.n, env.action_space.n])\n",
    "print (Q_table.shape)"
   ]
  },
  {
   "cell_type": "markdown",
   "metadata": {},
   "source": [
    "## Step 3 Configure the hyperparameters"
   ]
  },
  {
   "cell_type": "code",
   "execution_count": 9,
   "metadata": {},
   "outputs": [],
   "source": [
    "total_episodes = 100001\n",
    "total_test_episodes = 10001\n",
    "#learning_rate= 0.1\n",
    "epsilon = 0.1\n",
    "alpha = 0.1\n",
    "# discount rate\n",
    "gamma= 0.6\n",
    "\n",
    "# Create the hyperparameters\n",
    "sample_rewards = []"
   ]
  },
  {
   "cell_type": "markdown",
   "metadata": {},
   "source": [
    "## Step 4 Q Learning algorithm"
   ]
  },
  {
   "cell_type": "markdown",
   "metadata": {},
   "source": [
    "Note: The formula of Q table update(Bellman equation)\n",
    "    ![Bellman equation](https://raw.githubusercontent.com/hanruihua/NoteBook/master/AI-Note/equation.png)"
   ]
  },
  {
   "cell_type": "code",
   "execution_count": 10,
   "metadata": {},
   "outputs": [
    {
     "name": "stdout",
     "output_type": "stream",
     "text": [
      "average reward:0: -2.0\n",
      "average reward:1000: 30.112\n",
      "average reward:2000: 40.0\n",
      "average reward:3000: 40.0\n",
      "average reward:4000: 40.0\n",
      "average reward:5000: 40.0\n",
      "average reward:6000: 40.0\n",
      "average reward:7000: 40.0\n",
      "average reward:8000: 40.0\n",
      "average reward:9000: 40.0\n",
      "average reward:10000: 40.0\n",
      "average reward:11000: 40.0\n",
      "average reward:12000: 40.0\n",
      "average reward:13000: 40.0\n",
      "average reward:14000: 40.0\n",
      "average reward:15000: 40.0\n",
      "average reward:16000: 40.0\n",
      "average reward:17000: 40.0\n",
      "average reward:18000: 40.0\n",
      "average reward:19000: 40.0\n",
      "average reward:20000: 40.0\n",
      "average reward:21000: 40.0\n",
      "average reward:22000: 40.0\n",
      "average reward:23000: 40.0\n",
      "average reward:24000: 40.0\n",
      "average reward:25000: 40.0\n",
      "average reward:26000: 40.0\n",
      "average reward:27000: 40.0\n",
      "average reward:28000: 40.0\n",
      "average reward:29000: 40.0\n",
      "average reward:30000: 40.0\n",
      "average reward:31000: 40.0\n",
      "average reward:32000: 40.0\n",
      "average reward:33000: 40.0\n",
      "average reward:34000: 40.0\n",
      "average reward:35000: 40.0\n",
      "average reward:36000: 40.0\n",
      "average reward:37000: 40.0\n",
      "average reward:38000: 40.0\n",
      "average reward:39000: 40.0\n",
      "average reward:40000: 40.0\n",
      "average reward:41000: 40.0\n",
      "average reward:42000: 40.0\n",
      "average reward:43000: 40.0\n",
      "average reward:44000: 40.0\n",
      "average reward:45000: 40.0\n",
      "average reward:46000: 40.0\n",
      "average reward:47000: 40.0\n",
      "average reward:48000: 40.0\n",
      "average reward:49000: 40.0\n",
      "average reward:50000: 40.0\n",
      "average reward:51000: 40.0\n",
      "average reward:52000: 40.0\n",
      "average reward:53000: 40.0\n",
      "average reward:54000: 40.0\n",
      "average reward:55000: 40.0\n",
      "average reward:56000: 40.0\n",
      "average reward:57000: 40.0\n",
      "average reward:58000: 40.0\n",
      "average reward:59000: 40.0\n",
      "average reward:60000: 40.0\n",
      "average reward:61000: 40.0\n",
      "average reward:62000: 40.0\n",
      "average reward:63000: 40.0\n",
      "average reward:64000: 40.0\n",
      "average reward:65000: 40.0\n",
      "average reward:66000: 40.0\n",
      "average reward:67000: 40.0\n",
      "average reward:68000: 40.0\n",
      "average reward:69000: 40.0\n",
      "average reward:70000: 40.0\n",
      "average reward:71000: 40.0\n",
      "average reward:72000: 40.0\n",
      "average reward:73000: 40.0\n",
      "average reward:74000: 40.0\n",
      "average reward:75000: 40.0\n",
      "average reward:76000: 40.0\n",
      "average reward:77000: 40.0\n",
      "average reward:78000: 40.0\n",
      "average reward:79000: 40.0\n",
      "average reward:80000: 40.0\n",
      "average reward:81000: 40.0\n",
      "average reward:82000: 40.0\n",
      "average reward:83000: 40.0\n",
      "average reward:84000: 40.0\n",
      "average reward:85000: 40.0\n",
      "average reward:86000: 40.0\n",
      "average reward:87000: 40.0\n",
      "average reward:88000: 40.0\n",
      "average reward:89000: 40.0\n",
      "average reward:90000: 40.0\n",
      "average reward:91000: 40.0\n",
      "average reward:92000: 40.0\n",
      "average reward:93000: 40.0\n",
      "average reward:94000: 40.0\n",
      "average reward:95000: 40.0\n",
      "average reward:96000: 40.0\n",
      "average reward:97000: 40.0\n",
      "average reward:98000: 40.0\n",
      "average reward:99000: 40.0\n",
      "average reward:100000: 40.0\n"
     ]
    }
   ],
   "source": [
    "for episode in range(total_episodes):\n",
    "    \n",
    "    state= env.reset()\n",
    "    done=False\n",
    "    penalties, reward = 0, 0\n",
    "    \n",
    "    while not done:\n",
    "        # Please complete this action selection in this line via the maximum value\n",
    "        if random.uniform(0, 1) < epsilon:\n",
    "            action = env.action_space.sample() # Explore action space\n",
    "        else:\n",
    "            action = np.argmax(Q_table[state]) # Exploit learned values\n",
    "        \n",
    "        # fetech the new state and reward by gym API\n",
    "        next_state, reward, done, info = env.step(action)\n",
    "        \n",
    "        # Calculate the reward of this episode\n",
    "        reward += reward\n",
    "        \n",
    "        # Update the Q table\n",
    "        old_value = Q_table[state, action]\n",
    "        next_max = np.max(Q_table[next_state])\n",
    "        new_value = (1 - alpha) * old_value + alpha * (reward + gamma * next_max)\n",
    "        Q_table[state, action] = new_value\n",
    "        # Update the state\n",
    "        if reward == -10:\n",
    "            penalties += 1\n",
    "\n",
    "        state = next_state\n",
    "        \n",
    "        #store the episode reward\n",
    "        if done == True:\n",
    "            sample_rewards.append(reward)\n",
    "            break\n",
    "            \n",
    "    # print the average reward over 1000 episodes\n",
    "    if episode%1000 == 0:\n",
    "        mean_reward = np.mean(sample_rewards)\n",
    "        sample_rewards = []\n",
    "        print(\"average reward:\" +str(episode)+ \": \"+str(mean_reward))"
   ]
  },
  {
   "cell_type": "markdown",
   "metadata": {},
   "source": [
    "## Step 5 Test your Q table"
   ]
  },
  {
   "cell_type": "code",
   "execution_count": 16,
   "metadata": {},
   "outputs": [
    {
     "name": "stdout",
     "output_type": "stream",
     "text": [
      "test:\n",
      "average reward:7.92050794920508\n"
     ]
    }
   ],
   "source": [
    "env.reset()\n",
    "rewards=[]\n",
    "done=False\n",
    "for episode in range(total_test_episodes):\n",
    "    state=env.reset()\n",
    "    step = 0\n",
    "    done =False\n",
    "    total_rewards = 0\n",
    "\n",
    "    #for step in range(max_steps):\n",
    "    while not done:\n",
    "        #  action selection\n",
    "        action = np.argmax(Q_table[state])\n",
    "        # fetech the new state and reward by gym API\n",
    "        new_state, reward, done, info = env.step(action)\n",
    "        \n",
    "        total_rewards += reward\n",
    "        if done:\n",
    "            rewards.append(total_rewards)\n",
    "            break\n",
    "        state = new_state\n",
    "        \n",
    "env.close()\n",
    "print(\"test:\")\n",
    "print(\"average reward:\"+ str(np.mean(rewards)))"
   ]
  },
  {
   "cell_type": "code",
   "execution_count": null,
   "metadata": {},
   "outputs": [],
   "source": []
  }
 ],
 "metadata": {
  "file_extension": ".py",
  "kernelspec": {
   "display_name": "Python 3",
   "language": "python",
   "name": "python3"
  },
  "language_info": {
   "codemirror_mode": {
    "name": "ipython",
    "version": 3
   },
   "file_extension": ".py",
   "mimetype": "text/x-python",
   "name": "python",
   "nbconvert_exporter": "python",
   "pygments_lexer": "ipython3",
   "version": "3.6.6"
  },
  "mimetype": "text/x-python",
  "name": "python",
  "npconvert_exporter": "python",
  "pygments_lexer": "ipython3",
  "version": 3
 },
 "nbformat": 4,
 "nbformat_minor": 2
}
