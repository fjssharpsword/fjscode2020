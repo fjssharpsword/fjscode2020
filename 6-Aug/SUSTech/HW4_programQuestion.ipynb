{
 "cells": [
  {
   "cell_type": "markdown",
   "metadata": {},
   "source": [
    "# HW4_programQuestion\n",
    "\n",
    "**Due to 11:55 am, 6th, November 2019**\n",
    "\n",
    "**This is an individual assignment.**"
   ]
  },
  {
   "cell_type": "code",
   "execution_count": 1,
   "metadata": {},
   "outputs": [],
   "source": [
    "import numpy as np\n",
    "import matplotlib.pyplot as plt\n",
    "%matplotlib inline\n",
    "\n",
    "from hw4_ref import (PolynomialFeature, \n",
    "                     Classifier, \n",
    "                     LabelTransformer, \n",
    "                     Regression, \n",
    "                     LabelTransformer,\n",
    "                     RandomVariable,\n",
    "                     Gamma,\n",
    "                     Gaussian)\n",
    "\n",
    "np.random.seed(1234)"
   ]
  },
  {
   "cell_type": "code",
   "execution_count": 2,
   "metadata": {},
   "outputs": [],
   "source": [
    "def create_toy_data(add_outliers=False, add_class=False):\n",
    "    x0 = np.random.normal(size=50).reshape(-1, 2) - 1\n",
    "    x1 = np.random.normal(size=50).reshape(-1, 2) + 1.\n",
    "    if add_outliers:\n",
    "        x_1 = np.random.normal(size=10).reshape(-1, 2) + np.array([5., 10.])\n",
    "        return np.concatenate([x0, x1, x_1]), np.concatenate([np.zeros(25), np.ones(30)]).astype(np.int)\n",
    "    if add_class:\n",
    "        x2 = np.random.normal(size=50).reshape(-1, 2) + 3.\n",
    "        return np.concatenate([x0, x1, x2]), np.concatenate([np.zeros(25), np.ones(25), 2 + np.zeros(25)]).astype(np.int)\n",
    "    return np.concatenate([x0, x1]), np.concatenate([np.zeros(25), np.ones(25)]).astype(np.int)"
   ]
  },
  {
   "cell_type": "markdown",
   "metadata": {},
   "source": [
    "## 1. Discriminant Functions"
   ]
  },
  {
   "cell_type": "markdown",
   "metadata": {},
   "source": [
    "### 1.1 Least squares for classification"
   ]
  },
  {
   "cell_type": "code",
   "execution_count": 3,
   "metadata": {},
   "outputs": [],
   "source": [
    "class LeastSquaresClassifier(Classifier):\n",
    "    \"\"\"\n",
    "    Least squares classifier model\n",
    "\n",
    "    X : (N, D)\n",
    "    W : (D, K)\n",
    "    y = argmax_k X @ W\n",
    "    \"\"\"\n",
    "\n",
    "    def __init__(self, W:np.ndarray=None):\n",
    "        self.W = W\n",
    "\n",
    "    def fit(self, X:np.ndarray, t:np.ndarray):\n",
    "        \"\"\"\n",
    "        least squares fitting for classification\n",
    "\n",
    "        Parameters\n",
    "        ----------\n",
    "        X : (N, D) np.ndarray\n",
    "            training independent variable\n",
    "        t : (N,) or (N, K) np.ndarray\n",
    "            training dependent variable\n",
    "            in class index (N,) or one-of-k coding (N,K)\n",
    "        \"\"\"\n",
    "        if t.ndim == 1:\n",
    "            t = LabelTransformer().encode(t)\n",
    "        self.W = np.linalg.pinv(X) @ t\n",
    "\n",
    "    def classify(self, X:np.ndarray):\n",
    "        \"\"\"\n",
    "        classify input data\n",
    "\n",
    "        Parameters\n",
    "        ----------\n",
    "        X : (N, D) np.ndarray\n",
    "            independent variable to be classified\n",
    "\n",
    "        Returns\n",
    "        -------\n",
    "        (N,) np.ndarray\n",
    "            class index for each input\n",
    "        \"\"\"\n",
    "        return np.argmax(X @ self.W, axis=-1)"
   ]
  },
  {
   "cell_type": "code",
   "execution_count": 4,
   "metadata": {
    "scrolled": true
   },
   "outputs": [
    {
     "data": {
      "image/png": "[encoded data removed]",
      "text/plain": [
       "<Figure size 432x288 with 1 Axes>"
      ]
     },
     "metadata": {
      "needs_background": "light"
     },
     "output_type": "display_data"
    }
   ],
   "source": [
    "# Show the results with the given codes\n",
    "x_train, y_train = create_toy_data()\n",
    "x1_test, x2_test = np.meshgrid(np.linspace(-5, 5, 100), np.linspace(-5, 5, 100))\n",
    "x_test = np.array([x1_test, x2_test]).reshape(2, -1).T\n",
    "\n",
    "feature = PolynomialFeature(1)\n",
    "X_train = feature.transform(x_train)\n",
    "X_test = feature.transform(x_test)\n",
    "\n",
    "model = LeastSquaresClassifier()\n",
    "model.fit(X_train, y_train)\n",
    "y = model.classify(X_test)\n",
    "\n",
    "plt.scatter(x_train[:, 0], x_train[:, 1], c=y_train)\n",
    "plt.contourf(x1_test, x2_test, y.reshape(100, 100), alpha=0.2, levels=np.linspace(0, 1, 3))\n",
    "plt.xlim(-5, 5)\n",
    "plt.ylim(-5, 5)\n",
    "plt.gca().set_aspect('equal', adjustable='box')\n",
    "plt.show()"
   ]
  },
  {
   "cell_type": "markdown",
   "metadata": {},
   "source": [
    "### 1.2 Linear Regression"
   ]
  },
  {
   "cell_type": "code",
   "execution_count": 5,
   "metadata": {},
   "outputs": [],
   "source": [
    "class LinearRegression(Regression):\n",
    "    \"\"\"\n",
    "    Linear regression model\n",
    "    y = X @ w\n",
    "    t ~ N(t|X @ w, var)\n",
    "    \"\"\"\n",
    "\n",
    "    def fit(self, X:np.ndarray, t:np.ndarray):\n",
    "        \"\"\"\n",
    "        perform least squares fitting\n",
    "\n",
    "        Parameters\n",
    "        ----------\n",
    "        X : (N, D) np.ndarray\n",
    "            training independent variable\n",
    "        t : (N,) np.ndarray\n",
    "            training dependent variable\n",
    "        \"\"\"\n",
    "        self.w = np.linalg.pinv(X) @ t\n",
    "        self.var = np.mean(np.square(X @ self.w - t))\n",
    "\n",
    "    def predict(self, X:np.ndarray, return_std:bool=False):\n",
    "        \"\"\"\n",
    "        make prediction given input\n",
    "\n",
    "        Parameters\n",
    "        ----------\n",
    "        X : (N, D) np.ndarray\n",
    "            samples to predict their output\n",
    "        return_std : bool, optional\n",
    "            returns standard deviation of each predition if True\n",
    "\n",
    "        Returns\n",
    "        -------\n",
    "        y : (N,) np.ndarray\n",
    "            prediction of each sample\n",
    "        y_std : (N,) np.ndarray\n",
    "            standard deviation of each predition\n",
    "        \"\"\"\n",
    "        y = X @ self.w\n",
    "        # Complete your code here\n",
    "\n",
    "        return y\n"
   ]
  },
  {
   "cell_type": "markdown",
   "metadata": {},
   "source": [
    "### 1.3 Logistic Regression"
   ]
  },
  {
   "cell_type": "code",
   "execution_count": 11,
   "metadata": {},
   "outputs": [],
   "source": [
    "class LogisticRegression(Classifier):\n",
    "    \"\"\"\n",
    "    Logistic regression model\n",
    "\n",
    "    y = sigmoid(X @ w)\n",
    "    t ~ Bernoulli(t|y)\n",
    "    \"\"\"\n",
    "\n",
    "    @staticmethod\n",
    "    def _sigmoid(a):\n",
    "        # Complete your code here\n",
    "        # return the results with sigmoid function\n",
    "        return 1 / (1 + np.exp(-a))\n",
    "\n",
    "    def fit(self, X:np.ndarray, t:np.ndarray, max_iter:int=100):\n",
    "        \"\"\"\n",
    "        maximum likelihood estimation of logistic regression model\n",
    "\n",
    "        Parameters\n",
    "        ----------\n",
    "        X : (N, D) np.ndarray\n",
    "            training data independent variable\n",
    "        t : (N,) np.ndarray\n",
    "            training data dependent variable\n",
    "            binary 0 or 1\n",
    "        max_iter : int, optional\n",
    "            maximum number of paramter update iteration (the default is 100)\n",
    "        \"\"\"\n",
    "        w = np.zeros(np.size(X, 1))\n",
    "        for _ in range(max_iter):\n",
    "            w_prev = np.copy(w)\n",
    "            y = self._sigmoid(X @ w)\n",
    "            grad = X.T @ (y - t)\n",
    "            hessian = (X.T * y * (1 - y)) @ X\n",
    "            try:\n",
    "                w -= np.linalg.solve(hessian, grad)\n",
    "            except np.linalg.LinAlgError:\n",
    "                break\n",
    "            if np.allclose(w, w_prev):\n",
    "                break\n",
    "        self.w = w\n",
    "\n",
    "    def proba(self, X:np.ndarray):\n",
    "        \"\"\"\n",
    "        compute probability of input belonging class 1\n",
    "\n",
    "        Parameters\n",
    "        ----------\n",
    "        X : (N, D) np.ndarray\n",
    "            training data independent variable\n",
    "\n",
    "        Returns\n",
    "        -------\n",
    "        (N,) np.ndarray\n",
    "            probability of positive\n",
    "        \"\"\"\n",
    "        return self._sigmoid(X @ self.w)\n",
    "\n",
    "    def classify(self, X:np.ndarray, threshold:float=0.5):\n",
    "        \"\"\"\n",
    "        classify input data\n",
    "\n",
    "        Parameters\n",
    "        ----------\n",
    "        X : (N, D) np.ndarray\n",
    "            independent variable to be classified\n",
    "        threshold : float, optional\n",
    "            threshold of binary classification (default is 0.5)\n",
    "\n",
    "        Returns\n",
    "        -------\n",
    "        (N,) np.ndarray\n",
    "            binary class for each input\n",
    "        \"\"\"\n",
    "        \n",
    "        # Complete your code here\n",
    "        y = self.proba(X)\n",
    "        y[y < 0.5] = 0\n",
    "        y[y >= 0.5] = 1\n",
    "        return y\n"
   ]
  },
  {
   "cell_type": "code",
   "execution_count": 12,
   "metadata": {
    "scrolled": true
   },
   "outputs": [
    {
     "data": {
      "image/png": "[encoded data removed]",
      "text/plain": [
       "<Figure size 432x288 with 2 Axes>"
      ]
     },
     "metadata": {
      "needs_background": "light"
     },
     "output_type": "display_data"
    }
   ],
   "source": [
    "# Show the results with the given codes\n",
    "x_train, y_train = create_toy_data(add_outliers=True)\n",
    "x1_test, x2_test = np.meshgrid(np.linspace(-5, 15, 100), np.linspace(-5, 15, 100))\n",
    "x_test = np.array([x1_test, x2_test]).reshape(2, -1).T\n",
    "\n",
    "feature = PolynomialFeature(1)\n",
    "X_train = feature.transform(x_train)\n",
    "X_test = feature.transform(x_test)\n",
    "\n",
    "least_squares = LeastSquaresClassifier()\n",
    "least_squares.fit(X_train, y_train)\n",
    "y_ls = least_squares.classify(X_test)\n",
    "\n",
    "logistic_regression = LogisticRegression()\n",
    "logistic_regression.fit(X_train, y_train)\n",
    "y_lr = logistic_regression.classify(X_test)\n",
    "\n",
    "plt.subplot(1, 2, 1)\n",
    "plt.scatter(x_train[:, 0], x_train[:, 1], c=y_train)\n",
    "plt.contourf(x1_test, x2_test, y_ls.reshape(100, 100), alpha=0.2, levels=np.linspace(0, 1, 3))\n",
    "plt.xlim(-5, 15)\n",
    "plt.ylim(-5, 15)\n",
    "plt.gca().set_aspect('equal', adjustable='box')\n",
    "plt.title(\"Least Squares\")\n",
    "plt.subplot(1, 2, 2)\n",
    "plt.scatter(x_train[:, 0], x_train[:, 1], c=y_train)\n",
    "plt.contourf(x1_test, x2_test, y_lr.reshape(100, 100), alpha=0.2, levels=np.linspace(0, 1, 3))\n",
    "plt.xlim(-5, 15)\n",
    "plt.ylim(-5, 15)\n",
    "plt.gca().set_aspect('equal', adjustable='box')\n",
    "plt.title(\"Logistic Regression\")\n",
    "plt.show()"
   ]
  },
  {
   "cell_type": "markdown",
   "metadata": {},
   "source": [
    "### 1.4 Softmax Regression"
   ]
  },
  {
   "cell_type": "code",
   "execution_count": 13,
   "metadata": {},
   "outputs": [],
   "source": [
    "class SoftmaxRegression(Classifier):\n",
    "    \"\"\"\n",
    "    Softmax regression model\n",
    "    aka\n",
    "    multinomial logistic regression,\n",
    "    multiclass logistic regression,\n",
    "    maximum entropy classifier.\n",
    "\n",
    "    y = softmax(X @ W)\n",
    "    t ~ Categorical(t|y)\n",
    "    \"\"\"\n",
    "\n",
    "    @staticmethod\n",
    "    def _softmax(a):\n",
    "        # Complete your code here\n",
    "        return np.exp(a)/np.sum(np.exp(a),axis=0)\n",
    "\n",
    "    def fit(self, X:np.ndarray, t:np.ndarray, max_iter:int=100, learning_rate:float=0.1):\n",
    "        \"\"\"\n",
    "        maximum likelihood estimation of the parameter\n",
    "\n",
    "        Parameters\n",
    "        ----------\n",
    "        X : (N, D) np.ndarray\n",
    "            training independent variable\n",
    "        t : (N,) or (N, K) np.ndarray\n",
    "            training dependent variable\n",
    "            in class index or one-of-k encoding\n",
    "        max_iter : int, optional\n",
    "            maximum number of iteration (the default is 100)\n",
    "        learning_rate : float, optional\n",
    "            learning rate of gradient descent (the default is 0.1)\n",
    "        \"\"\"\n",
    "        if t.ndim == 1:\n",
    "            t = LabelTransformer().encode(t)\n",
    "        self.n_classes = np.size(t, 1)\n",
    "        W = np.zeros((np.size(X, 1), self.n_classes))\n",
    "        for _ in range(max_iter):\n",
    "            W_prev = np.copy(W)\n",
    "            y = self._softmax(X @ W)\n",
    "            grad = X.T @ (y - t)\n",
    "            W -= learning_rate * grad\n",
    "            if np.allclose(W, W_prev):\n",
    "                break\n",
    "        self.W = W\n",
    "\n",
    "    def proba(self, X:np.ndarray):\n",
    "        \"\"\"\n",
    "        compute probability of input belonging each class\n",
    "\n",
    "        Parameters\n",
    "        ----------\n",
    "        X : (N, D) np.ndarray\n",
    "            independent variable\n",
    "\n",
    "        Returns\n",
    "        -------\n",
    "        (N, K) np.ndarray\n",
    "            probability of each class\n",
    "        \"\"\"\n",
    "        return self._softmax(X @ self.W)\n",
    "\n",
    "    def classify(self, X:np.ndarray):\n",
    "        \"\"\"\n",
    "        classify input data\n",
    "\n",
    "        Parameters\n",
    "        ----------\n",
    "        X : (N, D) np.ndarray\n",
    "            independent variable to be classified\n",
    "\n",
    "        Returns\n",
    "        -------\n",
    "        (N,) np.ndarray\n",
    "            class index for each input\n",
    "        \"\"\"\n",
    "        return np.argmax(self.proba(X), axis=-1)"
   ]
  },
  {
   "cell_type": "code",
   "execution_count": 14,
   "metadata": {},
   "outputs": [
    {
     "name": "stderr",
     "output_type": "stream",
     "text": [
      "/usr/local/lib/python3.6/dist-packages/ipykernel_launcher.py:16: RuntimeWarning: overflow encountered in exp\n",
      "  app.launch_new_instance()\n",
      "/usr/local/lib/python3.6/dist-packages/ipykernel_launcher.py:16: RuntimeWarning: invalid value encountered in true_divide\n",
      "  app.launch_new_instance()\n"
     ]
    },
    {
     "data": {
      "image/png": "[encoded data removed]",
      "text/plain": [
       "<Figure size 432x288 with 2 Axes>"
      ]
     },
     "metadata": {
      "needs_background": "light"
     },
     "output_type": "display_data"
    }
   ],
   "source": [
    "# Show the results with the given codes\n",
    "x_train, y_train = create_toy_data(add_class=True)\n",
    "x1_test, x2_test = np.meshgrid(np.linspace(-5, 10, 100), np.linspace(-5, 10, 100))\n",
    "x_test = np.array([x1_test, x2_test]).reshape(2, -1).T\n",
    "\n",
    "feature = PolynomialFeature(1)\n",
    "X_train = feature.transform(x_train)\n",
    "X_test = feature.transform(x_test)\n",
    "\n",
    "least_squares = LeastSquaresClassifier()\n",
    "least_squares.fit(X_train, y_train)\n",
    "y_ls = least_squares.classify(X_test)\n",
    "\n",
    "logistic_regression = SoftmaxRegression()\n",
    "logistic_regression.fit(X_train, y_train, max_iter=1000, learning_rate=0.01)\n",
    "y_lr = logistic_regression.classify(X_test)\n",
    "\n",
    "plt.subplot(1, 2, 1)\n",
    "plt.scatter(x_train[:, 0], x_train[:, 1], c=y_train)\n",
    "plt.contourf(x1_test, x2_test, y_ls.reshape(100, 100), alpha=0.2, levels=np.array([0., 0.5, 1.5, 2.]))\n",
    "plt.xlim(-5, 10)\n",
    "plt.ylim(-5, 10)\n",
    "plt.gca().set_aspect('equal', adjustable='box')\n",
    "plt.title(\"Least squares\")\n",
    "plt.subplot(1, 2, 2)\n",
    "plt.scatter(x_train[:, 0], x_train[:, 1], c=y_train)\n",
    "plt.contourf(x1_test, x2_test, y_lr.reshape(100, 100), alpha=0.2, levels=np.array([0., 0.5, 1.5, 2.]))\n",
    "plt.xlim(-5, 10)\n",
    "plt.ylim(-5, 10)\n",
    "plt.gca().set_aspect('equal', adjustable='box')\n",
    "plt.title(\"Softmax Regression\")\n",
    "plt.show()"
   ]
  },
  {
   "cell_type": "markdown",
   "metadata": {},
   "source": [
    "### 1.5 Fisher's linear discriminant"
   ]
  },
  {
   "cell_type": "code",
   "execution_count": 70,
   "metadata": {},
   "outputs": [],
   "source": [
    "class FishersLinearDiscriminant(Classifier):\n",
    "    \"\"\"\n",
    "    Fisher's Linear discriminant model\n",
    "    \"\"\"\n",
    "\n",
    "    def __init__(self, w:np.ndarray=None, threshold:float=None):\n",
    "        self.w = w\n",
    "        self.threshold = threshold\n",
    "\n",
    "    def fit(self, X:np.ndarray, t:np.ndarray, k:np.int):\n",
    "        \"\"\"\n",
    "        estimate parameter given training dataset\n",
    "\n",
    "        Parameters\n",
    "        ----------\n",
    "        X : (N, D) np.ndarray\n",
    "            training dataset independent variable\n",
    "        t : (N,) np.ndarray\n",
    "            training dataset dependent variable\n",
    "            binary 0 or 1\n",
    "        \"\"\"\n",
    "        # Complete your code here\n",
    "        #data = np.concatenate((X, t.reshape(X.shape[0],1)), axis=1)\n",
    "        \n",
    "        #get samples per label\n",
    "        X_classify = {}\n",
    "        label_ = list(set(t))\n",
    "        for label in label_:\n",
    "            X_label = np.array([X[i] for i in range(len(X)) if t[i] == label])\n",
    "            X_classify[label] = X_label\n",
    "        \n",
    "        #calculate mean per label\n",
    "        mju = np.mean(X, axis=0)\n",
    "        mju_classify = {}\n",
    "        for label in label_: \n",
    "            mju_label = np.mean(X_classify[label], axis=0)\n",
    "            mju_classify[label] = mju_label\n",
    "\n",
    "        # calculate within-class scatter matrix\n",
    "        #St = np.dot((X - mju).T, X - mju)\n",
    "        Sw = np.zeros((len(mju), len(mju)))  \n",
    "        for i in label_:\n",
    "            Sw += np.dot((X_classify[i] - mju_classify[i]).T,X_classify[i] - mju_classify[i])\n",
    "\n",
    "        # calculate between-class scatter matrix\n",
    "        # Sb=St-Sw\n",
    "        Sb = np.zeros((len(mju), len(mju)))  \n",
    "        for i in label_:\n",
    "            Sb += len(X_classify[i]) * np.dot((mju_classify[i] - mju).reshape((len(mju), 1)), (mju_classify[i] - mju).reshape((1, len(mju))))\n",
    "\n",
    "        # Calculate the eigenvalues and eigenmatrices of Sw-1*Sb\n",
    "        eig_vals, eig_vecs = np.linalg.eig( np.linalg.inv(Sw).dot(Sb))  \n",
    "\n",
    "        sorted_indices = np.argsort(eig_vals)\n",
    "        topk_eig_vecs = eig_vecs[:, sorted_indices[:-k - 1:-1]]  # get top k feature vectors\n",
    "        self.w = topk_eig_vecs\n",
    "\n",
    "    def transform(self, X:np.ndarray):\n",
    "        \"\"\"\n",
    "        project data\n",
    "\n",
    "        Parameters\n",
    "        ----------\n",
    "        X : (N, D) np.ndarray\n",
    "            independent variable\n",
    "\n",
    "        Returns\n",
    "        -------\n",
    "        y : (N,) np.ndarray\n",
    "            projected data\n",
    "        \"\"\"\n",
    "        return X @ self.w\n",
    "\n",
    "    def classify(self, X:np.ndarray):\n",
    "        \"\"\"\n",
    "        classify input data\n",
    "\n",
    "        Parameters\n",
    "        ----------\n",
    "        X : (N, D) np.ndarray\n",
    "            independent variable to be classified\n",
    "\n",
    "        Returns\n",
    "        -------\n",
    "        (N,) np.ndarray\n",
    "            binary class for each input\n",
    "        \"\"\"\n",
    "        return (X @ self.w > self.threshold).astype(np.int)"
   ]
  },
  {
   "cell_type": "code",
   "execution_count": 72,
   "metadata": {},
   "outputs": [
    {
     "data": {
      "image/png": "[encoded data removed]",
      "text/plain": [
       "<Figure size 432x288 with 1 Axes>"
      ]
     },
     "metadata": {
      "needs_background": "light"
     },
     "output_type": "display_data"
    }
   ],
   "source": [
    "# Show the results with the given codes\n",
    "x_train, y_train = create_toy_data()\n",
    "x1_test, x2_test = np.meshgrid(np.linspace(-5, 5, 100), np.linspace(-5, 5, 100))\n",
    "x_test = np.array([x1_test, x2_test]).reshape(2, -1).T\n",
    "\n",
    "model = FishersLinearDiscriminant(threshold=0.0)\n",
    "model.fit(x_train, y_train, k=1)\n",
    "y = model.classify(x_test)\n",
    "\n",
    "plt.scatter(x_train[:, 0], x_train[:, 1], c=y_train)\n",
    "plt.contourf(x1_test, x2_test, y.reshape(100, 100), alpha=0.2, levels=np.linspace(0, 1, 3))\n",
    "plt.xlim(-5, 5)\n",
    "plt.ylim(-5, 5)\n",
    "plt.gca().set_aspect('equal', adjustable='box')\n",
    "plt.show()"
   ]
  },
  {
   "cell_type": "markdown",
   "metadata": {},
   "source": [
    "## 2. Probabilistic Discriminative Models"
   ]
  },
  {
   "cell_type": "markdown",
   "metadata": {},
   "source": [
    "### 2.1 Logistic Regression"
   ]
  },
  {
   "cell_type": "code",
   "execution_count": 73,
   "metadata": {},
   "outputs": [
    {
     "data": {
      "image/png": "[encoded data removed]",
      "text/plain": [
       "<Figure size 432x288 with 2 Axes>"
      ]
     },
     "metadata": {
      "needs_background": "light"
     },
     "output_type": "display_data"
    }
   ],
   "source": [
    "# Show the results with the given codes\n",
    "x_train, y_train = create_toy_data()\n",
    "x1_test, x2_test = np.meshgrid(np.linspace(-5, 5, 100), np.linspace(-5, 5, 100))\n",
    "x_test = np.array([x1_test, x2_test]).reshape(2, -1).T\n",
    "\n",
    "feature = PolynomialFeature(degree=1)\n",
    "X_train = feature.transform(x_train)\n",
    "X_test = feature.transform(x_test)\n",
    "\n",
    "model = LogisticRegression()\n",
    "model.fit(X_train, y_train)\n",
    "y = model.proba(X_test)\n",
    "\n",
    "plt.scatter(x_train[:, 0], x_train[:, 1], c=y_train)\n",
    "plt.contourf(x1_test, x2_test, y.reshape(100, 100), np.linspace(0, 1, 5), alpha=0.2)\n",
    "plt.colorbar()\n",
    "plt.xlim(-5, 5)\n",
    "plt.ylim(-5, 5)\n",
    "plt.gca().set_aspect('equal', adjustable='box')\n",
    "plt.show()"
   ]
  },
  {
   "cell_type": "markdown",
   "metadata": {},
   "source": [
    "### 2.2 Multiclass logistic regression"
   ]
  },
  {
   "cell_type": "code",
   "execution_count": 74,
   "metadata": {
    "scrolled": false
   },
   "outputs": [
    {
     "name": "stderr",
     "output_type": "stream",
     "text": [
      "/usr/local/lib/python3.6/dist-packages/ipykernel_launcher.py:16: RuntimeWarning: overflow encountered in exp\n",
      "  app.launch_new_instance()\n",
      "/usr/local/lib/python3.6/dist-packages/ipykernel_launcher.py:16: RuntimeWarning: invalid value encountered in true_divide\n",
      "  app.launch_new_instance()\n"
     ]
    },
    {
     "data": {
      "image/png": "[encoded data removed]",
      "text/plain": [
       "<Figure size 432x288 with 1 Axes>"
      ]
     },
     "metadata": {
      "needs_background": "light"
     },
     "output_type": "display_data"
    }
   ],
   "source": [
    "# Show the results with the given codes\n",
    "x_train, y_train = create_toy_data(add_class=True)\n",
    "x1, x2 = np.meshgrid(np.linspace(-5, 10, 100), np.linspace(-5, 10, 100))\n",
    "x = np.array([x1, x2]).reshape(2, -1).T\n",
    "\n",
    "feature = PolynomialFeature(1)\n",
    "X_train = feature.transform(x_train)\n",
    "X = feature.transform(x)\n",
    "\n",
    "model = SoftmaxRegression()\n",
    "model.fit(X_train, y_train, max_iter=1000, learning_rate=0.01)\n",
    "y = model.classify(X)\n",
    "\n",
    "plt.scatter(x_train[:, 0], x_train[:, 1], c=y_train)\n",
    "plt.contourf(x1, x2, y.reshape(100, 100), alpha=0.2, levels=np.array([0., 0.5, 1.5, 2.]))\n",
    "plt.xlim(-5, 10)\n",
    "plt.ylim(-5, 10)\n",
    "plt.gca().set_aspect('equal', adjustable='box')\n",
    "plt.show()"
   ]
  },
  {
   "cell_type": "markdown",
   "metadata": {},
   "source": [
    "### 2.3 Bayesian Logistic Regression"
   ]
  },
  {
   "cell_type": "code",
   "execution_count": 75,
   "metadata": {},
   "outputs": [],
   "source": [
    "#http://weirping.coding.me/blog/Bayesian-Probabilities-in-ML.html\n",
    "class BayesianRegression(Regression):\n",
    "    \"\"\"\n",
    "    Bayesian regression model\n",
    "\n",
    "    w ~ N(w|0, alpha^(-1)I)\n",
    "    y = X @ w\n",
    "    t ~ N(t|X @ w, beta^(-1))\n",
    "    \"\"\"\n",
    "\n",
    "    def __init__(self, alpha:float=1., beta:float=1.):\n",
    "        self.alpha = alpha\n",
    "        self.beta = beta\n",
    "        self.w_mean = None\n",
    "        self.w_precision = None\n",
    "\n",
    "    def _is_prior_defined(self) -> bool:\n",
    "        return self.w_mean is not None and self.w_precision is not None\n",
    "\n",
    "    def _get_prior(self, ndim:int) -> tuple:\n",
    "        if self._is_prior_defined():\n",
    "            return self.w_mean, self.w_precision\n",
    "        else:\n",
    "            return np.zeros(ndim), self.alpha * np.eye(ndim)\n",
    "\n",
    "    def fit(self, X:np.ndarray, t:np.ndarray):\n",
    "        \"\"\"\n",
    "        bayesian update of parameters given training dataset\n",
    "\n",
    "        Parameters\n",
    "        ----------\n",
    "        X : (N, n_features) np.ndarray\n",
    "            training data independent variable\n",
    "        t : (N,) np.ndarray\n",
    "            training data dependent variable\n",
    "        \"\"\"\n",
    "        #prior mean and precision\n",
    "        mean_prev, precision_prev = self._get_prior(np.size(X, 1))\n",
    "        #posterior precision \n",
    "        w_precision = precision_prev + self.beta * X.T @ X\n",
    "        #posterior mean \n",
    "        w_mean = np.linalg.solve(\n",
    "            w_precision,\n",
    "            precision_prev @ mean_prev + self.beta * X.T @ t\n",
    "        )\n",
    "        self.w_mean = w_mean\n",
    "        self.w_precision = w_precision\n",
    "        self.w_cov = np.linalg.inv(self.w_precision) #inverse matrix of posterior precision\n",
    "\n",
    "    def predict(self, X:np.ndarray, return_std:bool=False, sample_size:int=None):\n",
    "        \"\"\"\n",
    "        return mean (and standard deviation) of predictive distribution\n",
    "\n",
    "        Parameters\n",
    "        ----------\n",
    "        X : (N, n_features) np.ndarray\n",
    "            independent variable\n",
    "        return_std : bool, optional\n",
    "            flag to return standard deviation (the default is False)\n",
    "        sample_size : int, optional\n",
    "            number of samples to draw from the predictive distribution\n",
    "            (the default is None, no sampling from the distribution)\n",
    "\n",
    "        Returns\n",
    "        -------\n",
    "        y : (N,) np.ndarray\n",
    "            mean of the predictive distribution\n",
    "        y_std : (N,) np.ndarray\n",
    "            standard deviation of the predictive distribution\n",
    "        y_sample : (N, sample_size) np.ndarray\n",
    "            samples from the predictive distribution\n",
    "        \"\"\"\n",
    "\n",
    "        if sample_size is not None:\n",
    "            w_sample = np.random.multivariate_normal(\n",
    "                self.w_mean, self.w_cov, size=sample_size\n",
    "            )\n",
    "            y_sample = X @ w_sample.T\n",
    "            return y_sample\n",
    "        y = X @ self.w_mean\n",
    "        if return_std:\n",
    "            y_var = 1 / self.beta + np.sum(X @ self.w_cov * X, axis=1)\n",
    "            y_std = np.sqrt(y_var)\n",
    "            return y, y_std\n",
    "        return y"
   ]
  },
  {
   "cell_type": "code",
   "execution_count": 78,
   "metadata": {},
   "outputs": [
    {
     "data": {
      "image/png": "[encoded data removed]",
      "text/plain": [
       "<Figure size 432x288 with 2 Axes>"
      ]
     },
     "metadata": {
      "needs_background": "light"
     },
     "output_type": "display_data"
    }
   ],
   "source": [
    "# Show the results with the given codes\n",
    "x_train, y_train = create_toy_data()\n",
    "x1_test, x2_test = np.meshgrid(np.linspace(-5, 5, 100), np.linspace(-5, 5, 100))\n",
    "x_test = np.array([x1_test, x2_test]).reshape(2, -1).T\n",
    "\n",
    "feature = PolynomialFeature(degree=1)\n",
    "X_train = feature.transform(x_train)\n",
    "X_test = feature.transform(x_test)\n",
    "\n",
    "model =  BayesianRegression()\n",
    "model.fit(X_train, y_train)\n",
    "y = model.predict(X_test)\n",
    "\n",
    "plt.scatter(x_train[:, 0], x_train[:, 1], c=y_train)\n",
    "plt.contourf(x1_test, x2_test, y.reshape(100, 100), np.linspace(0, 1, 5), alpha=0.2)\n",
    "plt.colorbar()\n",
    "plt.xlim(-5, 5)\n",
    "plt.ylim(-5, 5)\n",
    "plt.gca().set_aspect('equal', adjustable='box')\n",
    "plt.show()"
   ]
  },
  {
   "cell_type": "code",
   "execution_count": 167,
   "metadata": {},
   "outputs": [],
   "source": [
    "#reference: PRML chapter4.5\n",
    "class BayesianLogisticRegression(LogisticRegression):\n",
    "    \"\"\"\n",
    "    Logistic regression model\n",
    "\n",
    "    w ~ Gaussian(0, alpha^(-1)I)\n",
    "    y = sigmoid(X @ w)\n",
    "    t ~ Bernoulli(t|y)\n",
    "    \"\"\"\n",
    "\n",
    "    def __init__(self, alpha:float=1.):\n",
    "        self.alpha = alpha\n",
    "    \n",
    "    def _get_prior(self, ndim:int) -> tuple:\n",
    "        return np.zeros(ndim), self.alpha * np.eye(ndim)    \n",
    "        \n",
    "    def fit(self, X:np.ndarray, t:np.ndarray, max_iter:int=100):\n",
    "        \"\"\"\n",
    "        bayesian estimation of logistic regression model\n",
    "        using Laplace approximation\n",
    "\n",
    "        Parameters\n",
    "        ----------\n",
    "        X : (N, D) np.ndarray\n",
    "            training data independent variable\n",
    "        t : (N,) np.ndarray\n",
    "            training data dependent variable\n",
    "            binary 0 or 1\n",
    "        max_iter : int, optional\n",
    "            maximum number of paramter update iteration (the default is 100)\n",
    "        \"\"\"\n",
    "        # Complete your code here\n",
    "        #prior mean and precision\n",
    "        mean_prev, precision_prev = self._get_prior(np.size(X, 1))\n",
    "        #dram samples from prior Gaussian\n",
    "        w_prior = np.random.multivariate_normal(mean_prev, precision_prev)\n",
    "        #calculate the posterior of mean and precision\n",
    "        w_post = w_prior\n",
    "        H = precision_prev\n",
    "        for i in range(max_iter):\n",
    "            y = self._sigmoid(X@w_prior)\n",
    "            w_grad = precision_prev@(w_prior-mean_prev)+ (y-t)@X\n",
    "            H = precision_prev + (y@(1-y))*(X.T@X) \n",
    "            w_post = w_prior - np.linalg.inv(H)@w_grad\n",
    "        \n",
    "        self.w_mean = w_post\n",
    "        self.H = np.linalg.inv(H)\n",
    "        \n",
    "\n",
    "    def proba(self, X:np.ndarray):\n",
    "        \"\"\"\n",
    "        compute probability of input belonging class 1\n",
    "\n",
    "        Parameters\n",
    "        ----------\n",
    "        X : (N, D) np.ndarray\n",
    "            training data independent variable\n",
    "\n",
    "        Returns\n",
    "        -------\n",
    "        (N,) np.ndarray\n",
    "            probability of positive\n",
    "        \"\"\"\n",
    "        mu_a = X @ self.w_mean\n",
    "        # Complete your code here\n",
    "        # compute the var_a with numpy approaches\n",
    "        var_a = (X@self.H@X.T).var()\n",
    "        \n",
    "        return self._sigmoid(mu_a / np.sqrt(1 + np.pi * var_a / 8)) #Laplace approximation"
   ]
  },
  {
   "cell_type": "code",
   "execution_count": 168,
   "metadata": {},
   "outputs": [
    {
     "data": {
      "image/png": "[encoded data removed]",
      "text/plain": [
       "<Figure size 432x288 with 2 Axes>"
      ]
     },
     "metadata": {
      "needs_background": "light"
     },
     "output_type": "display_data"
    }
   ],
   "source": [
    "# Show the results with the given codes\n",
    "x_train, y_train = create_toy_data()\n",
    "x1_test, x2_test = np.meshgrid(np.linspace(-5, 5, 100), np.linspace(-5, 5, 100))\n",
    "x_test = np.array([x1_test, x2_test]).reshape(2, -1).T\n",
    "\n",
    "feature = PolynomialFeature(degree=1)\n",
    "X_train = feature.transform(x_train)\n",
    "X_test = feature.transform(x_test)\n",
    "\n",
    "model = BayesianLogisticRegression(alpha=1.)\n",
    "model.fit(X_train, y_train, max_iter=1000)\n",
    "y = model.proba(X_test)\n",
    "\n",
    "plt.scatter(x_train[:, 0], x_train[:, 1], c=y_train)\n",
    "plt.contourf(x1_test, x2_test, y.reshape(100, 100), np.linspace(0, 1, 5), alpha=0.2)\n",
    "plt.colorbar()\n",
    "plt.xlim(-5, 5)\n",
    "plt.ylim(-5, 5)\n",
    "plt.gca().set_aspect('equal', adjustable='box')\n",
    "plt.show()"
   ]
  },
  {
   "cell_type": "code",
   "execution_count": null,
   "metadata": {},
   "outputs": [],
   "source": []
  }
 ],
 "metadata": {
  "anaconda-cloud": {},
  "kernelspec": {
   "display_name": "Python 3",
   "language": "python",
   "name": "python3"
  },
  "language_info": {
   "codemirror_mode": {
    "name": "ipython",
    "version": 3
   },
   "file_extension": ".py",
   "mimetype": "text/x-python",
   "name": "python",
   "nbconvert_exporter": "python",
   "pygments_lexer": "ipython3",
   "version": "3.6.6"
  }
 },
 "nbformat": 4,
 "nbformat_minor": 1
}
