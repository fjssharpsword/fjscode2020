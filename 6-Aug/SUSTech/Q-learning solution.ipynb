{
 "cells": [
  {
   "cell_type": "markdown",
   "metadata": {},
   "source": [
    "# Q-Learning (Not Applicable)"
   ]
  },
  {
   "cell_type": "markdown",
   "metadata": {},
   "source": [
    "In this homework, you should complete the Q-learning algorithm for the environment gym taxi"
   ]
  },
  {
   "cell_type": "code",
   "execution_count": 2,
   "metadata": {},
   "outputs": [],
   "source": [
    "import gym\n",
    "import numpy as np\n",
    "import random"
   ]
  },
  {
   "cell_type": "markdown",
   "metadata": {},
   "source": [
    "## Step 1 Creat the environment\n",
    "Using the API imported from gym"
   ]
  },
  {
   "cell_type": "code",
   "execution_count": 3,
   "metadata": {},
   "outputs": [
    {
     "name": "stdout",
     "output_type": "stream",
     "text": [
      "+---------+\n",
      "|R:\u001b[43m \u001b[0m| : :G|\n",
      "| : | : : |\n",
      "| : : : : |\n",
      "| | : | : |\n",
      "|\u001b[35mY\u001b[0m| : |\u001b[34;1mB\u001b[0m: |\n",
      "+---------+\n",
      "\n"
     ]
    }
   ],
   "source": [
    "env = gym.make('Taxi-v3')\n",
    "env.render()"
   ]
  },
  {
   "cell_type": "markdown",
   "metadata": {},
   "source": [
    "## Step 2  Create the Q-table and initialize it"
   ]
  },
  {
   "cell_type": "markdown",
   "metadata": {},
   "source": [
    "  "
   ]
  },
  {
   "cell_type": "code",
   "execution_count": 4,
   "metadata": {},
   "outputs": [],
   "source": [
    "action_space = env.action_space.n\n",
    "state_space = env.observation_space.n\n",
    "\n",
    "# PLease complete this initialization in this line\n",
    "Q_table = np.zeros((state_space, action_space))"
   ]
  },
  {
   "cell_type": "markdown",
   "metadata": {},
   "source": [
    "## Step 3 Configure the hyperparameters"
   ]
  },
  {
   "cell_type": "code",
   "execution_count": 5,
   "metadata": {},
   "outputs": [],
   "source": [
    "total_episodes = 50000\n",
    "total_test_episodes = 100\n",
    "\n",
    "learning_rate=0.08\n",
    "gamma=0.8\n",
    "\n",
    "# Create the hyperparameters\n",
    "sample_rewards = []"
   ]
  },
  {
   "cell_type": "markdown",
   "metadata": {},
   "source": [
    "## Step 4 Q Learning algorithm"
   ]
  },
  {
   "cell_type": "markdown",
   "metadata": {},
   "source": [
    "Note: The formula of Q table update(Bellman equation)\n",
    "    ![Bellman equation](equation.png)\n"
   ]
  },
  {
   "cell_type": "code",
   "execution_count": 6,
   "metadata": {},
   "outputs": [
    {
     "name": "stdout",
     "output_type": "stream",
     "text": [
      "average reward:0: -524.0\n",
      "average reward:1000: -119.864\n",
      "average reward:2000: -3.165\n",
      "average reward:3000: 6.506\n",
      "average reward:4000: 7.281\n",
      "average reward:5000: 7.754\n",
      "average reward:6000: 7.763\n",
      "average reward:7000: 7.807\n",
      "average reward:8000: 7.941\n",
      "average reward:9000: 7.968\n",
      "average reward:10000: 7.911\n",
      "average reward:11000: 7.933\n",
      "average reward:12000: 7.826\n",
      "average reward:13000: 8.05\n",
      "average reward:14000: 7.839\n",
      "average reward:15000: 7.954\n",
      "average reward:16000: 7.916\n",
      "average reward:17000: 7.838\n",
      "average reward:18000: 7.912\n",
      "average reward:19000: 8.087\n",
      "average reward:20000: 7.914\n",
      "average reward:21000: 7.986\n",
      "average reward:22000: 7.838\n",
      "average reward:23000: 7.79\n",
      "average reward:24000: 8.151\n",
      "average reward:25000: 8.043\n",
      "average reward:26000: 7.845\n",
      "average reward:27000: 7.834\n",
      "average reward:28000: 7.877\n",
      "average reward:29000: 7.819\n",
      "average reward:30000: 8.002\n",
      "average reward:31000: 7.946\n",
      "average reward:32000: 8.03\n",
      "average reward:33000: 7.89\n",
      "average reward:34000: 7.914\n",
      "average reward:35000: 8.052\n",
      "average reward:36000: 7.978\n",
      "average reward:37000: 7.96\n",
      "average reward:38000: 7.923\n",
      "average reward:39000: 7.924\n",
      "average reward:40000: 8.055\n",
      "average reward:41000: 7.936\n",
      "average reward:42000: 7.986\n",
      "average reward:43000: 7.965\n",
      "average reward:44000: 7.891\n",
      "average reward:45000: 7.901\n",
      "average reward:46000: 7.981\n",
      "average reward:47000: 8.041\n",
      "average reward:48000: 8.055\n",
      "average reward:49000: 8.023\n"
     ]
    }
   ],
   "source": [
    "for episode in range(total_episodes):\n",
    "    state= env.reset()\n",
    "    step=0\n",
    "    done=False\n",
    "    sample_reward = 0 \n",
    "    \n",
    "    while True:\n",
    "        \n",
    "        action = np.argmax(Q_table[state, :])\n",
    "        new_state, reward, done, info = env.step(action)\n",
    "        sample_reward += reward\n",
    "        Q_table[state, action] = Q_table[state, action] + learning_rate * (reward + gamma*np.max(Q_table[new_state, :]) - Q_table[state, action])\n",
    "\n",
    "        state = new_state\n",
    "\n",
    "        if done == True:\n",
    "            sample_rewards.append(sample_reward)\n",
    "            break\n",
    " \n",
    "    if episode%1000 == 0:\n",
    "        mean_reward = np.mean(sample_rewards)\n",
    "        sample_rewards = []\n",
    "        print(\"average reward:\" +str(episode)+ \": \"+str(mean_reward))"
   ]
  },
  {
   "cell_type": "markdown",
   "metadata": {},
   "source": [
    "## Step 5 Test your Q table"
   ]
  },
  {
   "cell_type": "code",
   "execution_count": 7,
   "metadata": {},
   "outputs": [
    {
     "name": "stdout",
     "output_type": "stream",
     "text": [
      "test:\n",
      "average reward over 100 episode:8.12\n"
     ]
    }
   ],
   "source": [
    "env.reset()\n",
    "rewards=[]\n",
    "\n",
    "for episode in range(total_test_episodes):\n",
    "    state=env.reset()\n",
    "    step = 0\n",
    "    done =False\n",
    "    total_rewards = 0\n",
    "\n",
    "    for step in range(max_steps):\n",
    "        action = np.argmax(Q_table[state,:])\n",
    "        new_state, reward, done, info = env.step(action)\n",
    "        total_rewards += reward\n",
    "        if done:\n",
    "            rewards.append(total_rewards)\n",
    "            break\n",
    "        state = new_state\n",
    "\n",
    "env.close()\n",
    "print(\"test:\")\n",
    "print(\"average reward over 100 episode:\"+ str(np.mean(rewards)))"
   ]
  },
  {
   "cell_type": "code",
   "execution_count": null,
   "metadata": {},
   "outputs": [],
   "source": []
  }
 ],
 "metadata": {
  "file_extension": ".py",
  "kernelspec": {
   "display_name": "Python 3",
   "language": "python",
   "name": "python3"
  },
  "language_info": {
   "codemirror_mode": {
    "name": "ipython",
    "version": 3
   },
   "file_extension": ".py",
   "mimetype": "text/x-python",
   "name": "python",
   "nbconvert_exporter": "python",
   "pygments_lexer": "ipython3",
   "version": "3.6.6"
  },
  "mimetype": "text/x-python",
  "name": "python",
  "npconvert_exporter": "python",
  "pygments_lexer": "ipython3",
  "version": 3
 },
 "nbformat": 4,
 "nbformat_minor": 2
}
