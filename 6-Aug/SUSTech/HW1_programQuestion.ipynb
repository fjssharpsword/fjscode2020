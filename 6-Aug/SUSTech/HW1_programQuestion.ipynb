{
 "cells": [
  {
   "cell_type": "code",
   "execution_count": 1,
   "metadata": {},
   "outputs": [],
   "source": [
    "import numpy as np\n",
    "import matplotlib.pyplot as plt\n",
    "%matplotlib inline"
   ]
  },
  {
   "cell_type": "code",
   "execution_count": 2,
   "metadata": {},
   "outputs": [],
   "source": [
    "def create_toy_data(func, sample_size, std):\n",
    "    x = np.linspace(0, 1, sample_size)\n",
    "    t = func(x) + np.random.normal(scale=std, size=x.shape)\n",
    "    return x, t\n",
    "\n",
    "def func(x):\n",
    "    return np.sin(2 * np.pi * x)\n",
    "\n",
    "x_train, y_train = create_toy_data(func, 10, 0.25)\n",
    "x_test = np.linspace(0, 1, 100)\n",
    "y_test = func(x_test)"
   ]
  },
  {
   "cell_type": "markdown",
   "metadata": {},
   "source": [
    "(a) Plot the graph with given code, the result should be same as this.\n",
    "![](originalData.png)\n",
    "`x_train` and `y_train` are the datas you need to create, `sample_size` is 10 and `std` is 0.25. "
   ]
  },
  {
   "cell_type": "code",
   "execution_count": 17,
   "metadata": {},
   "outputs": [
    {
     "data": {
      "image/png": "[encoded data removed]",
      "text/plain": [
       "<Figure size 432x288 with 1 Axes>"
      ]
     },
     "metadata": {
      "needs_background": "light"
     },
     "output_type": "display_data"
    }
   ],
   "source": [
    "# Write you codes here.\n",
    "x_sin = np.linspace(0, 1)\n",
    "y_sin = np.sin(2 * np.pi * x_sin)\n",
    "plt.plot(x_sin,y_sin, label='sin(2πx)')\n",
    "plt.scatter(x_train, y_train, c='r', s=20, alpha=0.5, label='Training Data')\n",
    "plt.legend(loc='best')\n",
    "plt.show()"
   ]
  },
  {
   "cell_type": "markdown",
   "metadata": {},
   "source": [
    "(b) On the basis of the results, you should try $0^{th}$ order polynomial, $1^{st}$ order polynomial, $3^{rd}$ order polynomial and some other order polynomial, show the results include fitting and over-fitting.\n",
    "![](fitting.png)"
   ]
  },
  {
   "cell_type": "code",
   "execution_count": 34,
   "metadata": {},
   "outputs": [],
   "source": [
    "import itertools \n",
    "import functools\n",
    "class PolynomialFeature(object):\n",
    "    \"\"\"\n",
    "    polynomial features\n",
    "\n",
    "    transforms input array with polynomial features\n",
    "\n",
    "    Example\n",
    "    =======\n",
    "    x =\n",
    "    [[a, b],\n",
    "    [c, d]]\n",
    "\n",
    "    y = PolynomialFeatures(degree=2).transform(x)\n",
    "    y =\n",
    "    [[1, a, b, a^2, a * b, b^2],\n",
    "    [1, c, d, c^2, c * d, d^2]]\n",
    "    \"\"\"\n",
    "\n",
    "    def __init__(self, degree=2):\n",
    "        \"\"\"\n",
    "        construct polynomial features\n",
    "\n",
    "        Parameters\n",
    "        ----------\n",
    "        degree : int\n",
    "            degree of polynomial\n",
    "        \"\"\"\n",
    "        assert isinstance(degree, int)\n",
    "        self.degree = degree\n",
    "\n",
    "    def transform(self, x):\n",
    "        \"\"\"\n",
    "        transforms input array with polynomial features\n",
    "\n",
    "        Parameters\n",
    "        ----------\n",
    "        x : (sample_size, n) ndarray\n",
    "            input array\n",
    "\n",
    "        Returns\n",
    "        -------\n",
    "        output : (sample_size, 1 + nC1 + ... + nCd) ndarray\n",
    "            polynomial features\n",
    "        \"\"\"\n",
    "        if x.ndim == 1:\n",
    "            x = x[:, None]\n",
    "        x_t = x.transpose()\n",
    "        features = [np.ones(len(x))]\n",
    "        for degree in range(1, self.degree + 1):\n",
    "            for items in itertools.combinations_with_replacement(x_t, degree):\n",
    "                features.append(functools.reduce(lambda x, y: x * y, items))\n",
    "        return np.asarray(features).transpose()\n",
    "    \n",
    "class Regression(object):\n",
    "    \"\"\"\n",
    "    Base class for regressors\n",
    "    \"\"\"\n",
    "    pass\n",
    "    \n",
    "class LinearRegression(Regression):\n",
    "    \"\"\"\n",
    "    Linear regression model\n",
    "    y = X @ w\n",
    "    t ~ N(t|X @ w, var)\n",
    "    \"\"\"\n",
    "\n",
    "    def fit(self, X:np.ndarray, t:np.ndarray):\n",
    "        \"\"\"\n",
    "        perform least squares fitting\n",
    "\n",
    "        Parameters\n",
    "        ----------\n",
    "        X : (N, D) np.ndarray\n",
    "            training independent variable\n",
    "        t : (N,) np.ndarray\n",
    "            training dependent variable\n",
    "        \"\"\"\n",
    "        self.w = np.linalg.pinv(X) @ t\n",
    "        self.var = np.mean(np.square(X @ self.w - t))\n",
    "\n",
    "    def predict(self, X:np.ndarray, return_std:bool=False):\n",
    "        \"\"\"\n",
    "        make prediction given input\n",
    "\n",
    "        Parameters\n",
    "        ----------\n",
    "        X : (N, D) np.ndarray\n",
    "            samples to predict their output\n",
    "        return_std : bool, optional\n",
    "            returns standard deviation of each predition if True\n",
    "\n",
    "        Returns\n",
    "        -------\n",
    "        y : (N,) np.ndarray\n",
    "            prediction of each sample\n",
    "        y_std : (N,) np.ndarray\n",
    "            standard deviation of each predition\n",
    "        \"\"\"\n",
    "        y = X @ self.w\n",
    "        if return_std:\n",
    "            y_std = np.sqrt(self.var) + np.zeros_like(y)\n",
    "            return y, y_std\n",
    "        return y"
   ]
  },
  {
   "cell_type": "code",
   "execution_count": 38,
   "metadata": {},
   "outputs": [
    {
     "data": {
      "image/png": "[encoded data removed]",
      "text/plain": [
       "<Figure size 432x288 with 1 Axes>"
      ]
     },
     "metadata": {
      "needs_background": "light"
     },
     "output_type": "display_data"
    }
   ],
   "source": [
    "# Write your codes here.\n",
    "#degree =3\n",
    "pf = PolynomialFeature(degree=3)\n",
    "x_poly = pf.transform(x_train)\n",
    "LR = LinearRegression()\n",
    "LR.fit(x_poly,y_train)\n",
    "y_pred = LR.predict(x_poly)\n",
    "plt.scatter(x_train, y_train, c='r', s=20, alpha=0.5, label='Training Data')\n",
    "plt.scatter(x_train, y_pred, c='b', s=20, alpha=0.5, label='Predict Data')\n",
    "plt.legend(loc='best')\n",
    "plt.show()"
   ]
  },
  {
   "cell_type": "markdown",
   "metadata": {},
   "source": [
    "(c) Plot the graph of the root-mean-square error."
   ]
  },
  {
   "cell_type": "code",
   "execution_count": 44,
   "metadata": {},
   "outputs": [],
   "source": [
    "'''\n",
    "import math\n",
    "def rmse(a, b):\n",
    "    # Complete this function\n",
    "    assert (len(a)==len(b))\n",
    "    squaredErrors  = []\n",
    "    for i in range(len(a)):\n",
    "        error= a[i] - b[i]\n",
    "        squaredErrors.append(error*error)\n",
    "    return math.sqrt(sum(squaredErrors) / len(squaredErrors))\n",
    "'''\n",
    "def rmse(a, b):\n",
    "    return np.sqrt(((a - b) ** 2).mean())"
   ]
  },
  {
   "cell_type": "code",
   "execution_count": 45,
   "metadata": {},
   "outputs": [
    {
     "name": "stdout",
     "output_type": "stream",
     "text": [
      "Training RMSE =  0.28050166017446015\n",
      "Test RMSE =  0.21314261326940054\n"
     ]
    }
   ],
   "source": [
    "# Write your codes here.\n",
    "#training_erroes = []\n",
    "#test_errors = []\n",
    "print(\"Training RMSE = \", rmse(y_train,y_pred))\n",
    "x_poly_test = pf.transform(x_test)\n",
    "y_pred_test = LR.predict(x_poly_test)\n",
    "print(\"Test RMSE = \", rmse(y_test,y_pred_test))"
   ]
  },
  {
   "cell_type": "markdown",
   "metadata": {},
   "source": [
    "(d) Plot the graph of the predictive distribution resulting from a Bayesian treatment of polynomial curve fitting using an M=9 polynomial, with the fixed parameters $\\alpha=5\\times 10^{-3}$ and $\\beta=11.1$(corresponding to the known noise variance).\n",
    "![](bayesianRegression.png)"
   ]
  },
  {
   "cell_type": "code",
   "execution_count": 47,
   "metadata": {},
   "outputs": [],
   "source": [
    "class BayesianRegression(Regression):\n",
    "    \"\"\"\n",
    "    Bayesian regression model\n",
    "\n",
    "    w ~ N(w|0, alpha^(-1)I)\n",
    "    y = X @ w\n",
    "    t ~ N(t|X @ w, beta^(-1))\n",
    "    \"\"\"\n",
    "\n",
    "    def __init__(self, alpha:float=1., beta:float=1.):\n",
    "        self.alpha = alpha\n",
    "        self.beta = beta\n",
    "        self.w_mean = None\n",
    "        self.w_precision = None\n",
    "\n",
    "    def _is_prior_defined(self) -> bool:\n",
    "        return self.w_mean is not None and self.w_precision is not None\n",
    "\n",
    "    def _get_prior(self, ndim:int) -> tuple:\n",
    "        if self._is_prior_defined():\n",
    "            return self.w_mean, self.w_precision\n",
    "        else:\n",
    "            return np.zeros(ndim), self.alpha * np.eye(ndim)\n",
    "\n",
    "    def fit(self, X:np.ndarray, t:np.ndarray):\n",
    "        \"\"\"\n",
    "        bayesian update of parameters given training dataset\n",
    "\n",
    "        Parameters\n",
    "        ----------\n",
    "        X : (N, n_features) np.ndarray\n",
    "            training data independent variable\n",
    "        t : (N,) np.ndarray\n",
    "            training data dependent variable\n",
    "        \"\"\"\n",
    "\n",
    "        mean_prev, precision_prev = self._get_prior(np.size(X, 1))\n",
    "\n",
    "        w_precision = precision_prev + self.beta * X.T @ X\n",
    "        w_mean = np.linalg.solve(\n",
    "            w_precision,\n",
    "            precision_prev @ mean_prev + self.beta * X.T @ t\n",
    "        )\n",
    "        self.w_mean = w_mean\n",
    "        self.w_precision = w_precision\n",
    "        self.w_cov = np.linalg.inv(self.w_precision)\n",
    "\n",
    "    def predict(self, X:np.ndarray, return_std:bool=False, sample_size:int=None):\n",
    "        \"\"\"\n",
    "        return mean (and standard deviation) of predictive distribution\n",
    "\n",
    "        Parameters\n",
    "        ----------\n",
    "        X : (N, n_features) np.ndarray\n",
    "            independent variable\n",
    "        return_std : bool, optional\n",
    "            flag to return standard deviation (the default is False)\n",
    "        sample_size : int, optional\n",
    "            number of samples to draw from the predictive distribution\n",
    "            (the default is None, no sampling from the distribution)\n",
    "\n",
    "        Returns\n",
    "        -------\n",
    "        y : (N,) np.ndarray\n",
    "            mean of the predictive distribution\n",
    "        y_std : (N,) np.ndarray\n",
    "            standard deviation of the predictive distribution\n",
    "        y_sample : (N, sample_size) np.ndarray\n",
    "            samples from the predictive distribution\n",
    "        \"\"\"\n",
    "\n",
    "        if sample_size is not None:\n",
    "            w_sample = np.random.multivariate_normal(\n",
    "                self.w_mean, self.w_cov, size=sample_size\n",
    "            )\n",
    "            y_sample = X @ w_sample.T\n",
    "            return y_sample\n",
    "        y = X @ self.w_mean\n",
    "        if return_std:\n",
    "            y_var = 1 / self.beta + np.sum(X @ self.w_cov * X, axis=1)\n",
    "            y_std = np.sqrt(y_var)\n",
    "            return y, y_std\n",
    "        return y"
   ]
  },
  {
   "cell_type": "code",
   "execution_count": 51,
   "metadata": {},
   "outputs": [
    {
     "data": {
      "image/png": "[encoded data removed]",
      "text/plain": [
       "<Figure size 432x288 with 1 Axes>"
      ]
     },
     "metadata": {
      "needs_background": "light"
     },
     "output_type": "display_data"
    }
   ],
   "source": [
    "# Write your codes here.\n",
    "#degree =9\n",
    "pf = PolynomialFeature(degree=9)\n",
    "x_poly = pf.transform(x_train)\n",
    "BR = BayesianRegression(alpha=0.005, beta=11.1)\n",
    "BR.fit(x_poly,y_train)\n",
    "y_pred = BR.predict(x_poly)\n",
    "plt.scatter(x_train, y_train, c='r', s=20, alpha=0.5, label='Training Data')\n",
    "plt.scatter(x_train, y_pred, c='b', s=20, alpha=0.5, label='Predict Data')\n",
    "plt.legend(loc='best')\n",
    "plt.show()"
   ]
  },
  {
   "cell_type": "markdown",
   "metadata": {},
   "source": [
    "(e) Change the $sample\\_size$ to 2, 3 or 10 times than before, explain the change of $M$."
   ]
  },
  {
   "cell_type": "code",
   "execution_count": 55,
   "metadata": {},
   "outputs": [
    {
     "data": {
      "image/png": "[encoded data removed]",
      "text/plain": [
       "<Figure size 432x288 with 1 Axes>"
      ]
     },
     "metadata": {
      "needs_background": "light"
     },
     "output_type": "display_data"
    }
   ],
   "source": [
    "# Write your codes here.\n",
    "def create_toy_data(func, sample_size, std):\n",
    "    x = np.linspace(0, 1, sample_size)\n",
    "    t = func(x) + np.random.normal(scale=std, size=x.shape)\n",
    "    return x, t\n",
    "\n",
    "def func(x):\n",
    "    return np.sin(2 * np.pi * x)\n",
    "\n",
    "x_train, y_train = create_toy_data(func, 10*10, 0.25) #sample_size=10*10\n",
    "#degree =9\n",
    "pf = PolynomialFeature(degree=9)\n",
    "x_poly = pf.transform(x_train)\n",
    "BR = BayesianRegression(alpha=0.005, beta=11.1)\n",
    "BR.fit(x_poly,y_train)\n",
    "y_pred = BR.predict(x_poly)\n",
    "plt.scatter(x_train, y_train, c='r', s=20, alpha=0.5, label='Training Data')\n",
    "plt.scatter(x_train, y_pred, c='b', s=20, alpha=0.5, label='Predict Data')\n",
    "plt.legend(loc='best')\n",
    "plt.show()"
   ]
  },
  {
   "cell_type": "code",
   "execution_count": null,
   "metadata": {},
   "outputs": [],
   "source": []
  }
 ],
 "metadata": {
  "kernelspec": {
   "display_name": "Python 3",
   "language": "python",
   "name": "python3"
  },
  "language_info": {
   "codemirror_mode": {
    "name": "ipython",
    "version": 3
   },
   "file_extension": ".py",
   "mimetype": "text/x-python",
   "name": "python",
   "nbconvert_exporter": "python",
   "pygments_lexer": "ipython3",
   "version": "3.6.6"
  }
 },
 "nbformat": 4,
 "nbformat_minor": 2
}
