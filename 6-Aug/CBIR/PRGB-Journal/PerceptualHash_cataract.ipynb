{
 "cells": [
  {
   "cell_type": "code",
   "execution_count": 2,
   "metadata": {},
   "outputs": [],
   "source": [
    "#Perceptual hash algorithm+ASOCT_cataract\n",
    "#each image --> fingerprint\n",
    "import sys\n",
    "import os\n",
    "import math\n",
    "import random\n",
    "import heapq \n",
    "import numpy as np\n",
    "import pandas as pd\n",
    "from PIL import Image\n",
    "import psycopg2 as ps\n",
    "from io import StringIO,BytesIO \n",
    "import pywt\n",
    "import cv2\n",
    "import matplotlib.pyplot as plt\n",
    "from sklearn.decomposition import PCA\n",
    "from functools import reduce"
   ]
  },
  {
   "cell_type": "code",
   "execution_count": null,
   "metadata": {},
   "outputs": [],
   "source": [
    "#1. create table\n",
    "conn = ps.connect(host=\"127.0.0.1\", user=\"postgres\", password=\"postgres\", database=\"asoct\")#connect postgresql \n",
    "if conn is not None:\n",
    "    cur = conn.cursor()\n",
    "    command = \"create table cataract_ph (name text NOT NULL, cA_img float8[] NOT NULL, signature BIGINT NOT NULL);\"\n",
    "    cur.execute(command)\n",
    "    conn.commit()# commit the changes\n",
    "    cur.close()# close communication with the PostgreSQL database server\n",
    "conn.close()"
   ]
  },
  {
   "cell_type": "code",
   "execution_count": 17,
   "metadata": {},
   "outputs": [
    {
     "name": "stdout",
     "output_type": "stream",
     "text": [
      "40066 / 40066 "
     ]
    }
   ],
   "source": [
    "#2. Extract features with wavelet transform and get fingerprint\n",
    "def avhash(im): #Perceptual hash algorithm\n",
    "    if not isinstance(im, Image.Image):\n",
    "        im = Image.open(im)\n",
    "    im = im.resize((7, 7), Image.ANTIALIAS).convert('L')\n",
    "    avg = reduce(lambda x, y: x + y, im.getdata()) / 64.\n",
    "    return reduce(lambda x, yz: x | (yz[1] << yz[0]),\n",
    "                  enumerate(map(lambda i: 0 if i < avg else 1, im.getdata())),\n",
    "                  0)\n",
    "#insert into database\n",
    "conn = ps.connect(host=\"127.0.0.1\", user=\"postgres\", password=\"postgres\", database=\"asoct\")#connect postgresql \n",
    "if conn is not None:\n",
    "    cur = conn.cursor()\n",
    "    image_dir = '/data/fjsdata/ASOCT/Cataract/C_8bit_Crop_New' #the path of images\n",
    "    num_img = 0 #count\n",
    "    for fname in sorted(os.listdir(image_dir)):\n",
    "        if fname.endswith(\".jpg\"):\n",
    "            image_path = os.path.join(image_dir, fname)\n",
    "            try:\n",
    "                img = cv2.imread(image_path)\n",
    "                if img is not None:\n",
    "                    img = cv2.resize(img, (1000, 200))#resize image\n",
    "                    img = cv2.cvtColor(img, cv2.COLOR_BGR2GRAY).astype(np.float32)  #turn  multi-channel to single-channel\n",
    "                    cA, (cH, cV, cD) = pywt.dwt2(data=img, wavelet='haar')#Single level Discrete Wavelet Transform.\n",
    "                    command = \"insert into cataract_ph(name, cA_img, signature) values(%s, %s, %s);\"\n",
    "                    params = (fname, cA.flatten().tolist(), avhash(image_path))\n",
    "                    cur.execute(command, params)\n",
    "                    conn.commit()# commit the changes  \n",
    "            except:\n",
    "                print(fname+\":\"+str(avhash(image_path)))\n",
    "        num_img = num_img+1\n",
    "        sys.stdout.write('\\r{} / {} '.format(num_img,40066))\n",
    "        sys.stdout.flush()\n",
    "    cur.close()\n",
    "conn.close()"
   ]
  },
  {
   "cell_type": "raw",
   "metadata": {},
   "source": [
    "cataract_wt table management\n",
    "1.ALTER TABLE cataract_ph ADD PRIMARY KEY (name);\n",
    "2.CREATE EXTENSION btree_gin;\n",
    "  CREATE INDEX idx_cataract_ph_signature ON cataract_ph USING gin (signature);\n",
    "  CREATE EXTENSION btree_gist;\n",
    "  CREATE INDEX idx_cataract_ph_signature ON cataract_ph USING gist (signature);\n",
    "3.CREATE EXTENSION smlar;\n",
    "SELECT name, smlr FROM (SELECT name, smlar(cA_img,(SELECT cA_img FROM cataract_ph WHERE name = 'c0100_20181102_111708_R_CASIA2_LGC_002.jpg')) AS smlr FROM cataract_ph WHERE name <> 'c0100_20181102_111708_R_CASIA2_LGC_002.jpg' ORDER BY (signature-(SELECT signature FROM cataract_ph WHERE name = 'c0100_20181102_111708_R_CASIA2_LGC_002.jpg')) LIMIT 100) x ORDER BY x.smlr ASC LIMIT 10; \n",
    "\n",
    "SELECT name, smlr FROM (SELECT name, smlar(cA_img,(SELECT cA_img FROM cataract_ph WHERE name = 'c0100_20181102_111708_R_CASIA2_LGC_002.jpg')) AS smlr FROM cataract_ph WHERE name <> 'c0100_20181102_111708_R_CASIA2_LGC_002.jpg' ORDER BY (signature::bit(64) & (SELECT signature FROM cataract_ph WHERE name = 'c0100_20181102_111708_R_CASIA2_LGC_002.jpg')::bit(64)) LIMIT 100) x ORDER BY x.smlr ASC LIMIT 10;\n",
    "\n",
    "4.https://github.com/eulerto/pg_similarity "
   ]
  },
  {
   "cell_type": "raw",
   "metadata": {},
   "source": [
    "SELECT name, smlr FROM (SELECT name, smlar(cA_img,(SELECT cA_img FROM cataract_ph WHERE name = 'c0100_20181102_111708_R_CASIA2_LGC_002.jpg')) AS smlr FROM cataract_ph WHERE name in (SELECT name FROM pat where name <> 'C020_20180514_100234_R_CASIA2_LGC_002.jpg' ORDER BY signature <-> (SELECT signature FROM pat WHERE name = 'C020_20180514_100234_R_CASIA2_LGC_002.jpg') LIMIT 100) ) x ORDER BY x.smlr ASC LIMIT 10;\n",
    "\n",
    "SELECT name, smlr FROM (SELECT name, (signature::bit(64) & (SELECT signature FROM cataract_ph WHERE name = 'c0100_20181102_111708_R_CASIA2_LGC_002.jpg')::bit(64)) AS smlr FROM cataract_ph WHERE name in (SELECT name FROM pat ORDER BY signature <-> (SELECT signature FROM pat WHERE name = 'C020_20180514_100234_R_CASIA2_LGC_002.jpg') LIMIT 100) ) x ORDER BY x.smlr ASC LIMIT 10;"
   ]
  },
  {
   "cell_type": "code",
   "execution_count": 4,
   "metadata": {},
   "outputs": [
    {
     "name": "stdout",
     "output_type": "stream",
     "text": [
      "Dataset Statistics: Rows = 31998, Cols = 4\n",
      "HR@5=0.263200, MAP@5=0.191700\n",
      "HR@10=0.275300, MAP@10=0.179515\n",
      "HR@15=0.290533, MAP@15=0.170046\n"
     ]
    }
   ],
   "source": [
    "#performance metric\n",
    "data = pd.read_csv(\"/data/fjsdata/ASOCT/Cataract/CBIR_Cataract.csv\" , sep=',')#load dataset\n",
    "print('Dataset Statistics: Rows = %d, Cols = %d' % (data.shape[0], data.shape[1]))\n",
    "#labels_dis = data[['D']].drop_duplicates()#observe the distribution of labels\n",
    "#load images\n",
    "name_list = data['A'].tolist()\n",
    "def hit(name, smname):\n",
    "    if smname not in name_list:#no label\n",
    "        return 0\n",
    "    else:\n",
    "        lv_name = data.loc[data.A==name,'D'].values[0]\n",
    "        lv_smname = data.loc[data.A==smname,'D'].values[0]\n",
    "        if ( lv_name== lv_smname): #same level,hit\n",
    "            return 1\n",
    "        return 0  \n",
    "    \n",
    "conn = ps.connect(host=\"127.0.0.1\", user=\"postgres\", password=\"postgres\", database=\"asoct\")#connect postgresql \n",
    "if conn is not None:\n",
    "    cur = conn.cursor() \n",
    "    for topk in [5,10,15]:\n",
    "        HR =[] #Hit ratio \n",
    "        MAP =[] #mean average precision\n",
    "        for name in random.sample(name_list,1000):\n",
    "            #command = \"SELECT name, smlr FROM (SELECT name, smlar(cA_img,(SELECT cA_img FROM cataract_ph WHERE name = %s)) AS smlr FROM cataract_ph WHERE name <> %s ORDER BY (signature::bit(64) & (SELECT signature FROM cataract_ph WHERE name = %s)::bit(64)) LIMIT 100) x ORDER BY x.smlr ASC LIMIT %s;\"\n",
    "            #command = \"SELECT name, smlr FROM (SELECT name, smlar(cA_img,(SELECT cA_img FROM cataract_ph WHERE name = %s)) AS smlr FROM cataract_ph WHERE name in (SELECT name FROM pat ORDER BY signature <-> (SELECT signature FROM pat WHERE name = %s) LIMIT 100) ) x ORDER BY x.smlr ASC LIMIT %s;\"\n",
    "            command = \"SELECT name, smlr FROM (SELECT name, (signature::bit(64) & (SELECT signature FROM cataract_ph WHERE name = %s)::bit(64)) AS smlr FROM cataract_ph WHERE name in (SELECT name FROM pat ORDER BY signature <-> (SELECT signature FROM pat WHERE name = %s) LIMIT 100) ) x ORDER BY x.smlr ASC LIMIT %s;\"\n",
    "            params = (name, name, topk)\n",
    "            cur.execute(command, params)\n",
    "            #perfromance\n",
    "            pos_len = 0\n",
    "            rank_len = 0\n",
    "            rank_map = []\n",
    "            for smname, smlr in cur.fetchall():\n",
    "                ret = hit(name,smname)\n",
    "                HR.append(ret)\n",
    "                rank_len=rank_len+1\n",
    "                if ret==1: \n",
    "                    pos_len = pos_len +1\n",
    "                    rank_map.append(pos_len/rank_len) \n",
    "                else: \n",
    "                    rank_map.append(0)                  \n",
    "            MAP.append(np.mean(rank_map))  \n",
    "        print(\"HR@{}={:.6f}, MAP@{}={:.6f}\".format(topk,np.mean(HR),topk,np.mean(MAP)))              \n",
    "    cur.close()\n",
    "conn.close()"
   ]
  },
  {
   "cell_type": "code",
   "execution_count": 8,
   "metadata": {},
   "outputs": [
    {
     "name": "stdout",
     "output_type": "stream",
     "text": [
      "1188703169215789056\n",
      "35678052826480384\n",
      "1153447328871548672\n",
      "18\n"
     ]
    },
    {
     "data": {
      "text/plain": [
       "'\\nif __name__ == \\'__main__\\':\\n    if len(sys.argv) <= 1 or len(sys.argv) > 3:\\n        print \"Usage: %s image.jpg [dir]\" % sys.argv[0]\\n    else:\\n        im, wd = sys.argv[1], \\'.\\' if len(sys.argv) < 3 else sys.argv[2]\\n        h = avhash(im)\\n\\n        os.chdir(wd)\\n        images = []\\n        for ext in EXTS:\\n            images.extend(glob.glob(\\'*.%s\\' % ext))\\n\\n        seq = []\\n        prog = int(len(images) > 50 and sys.stdout.isatty())\\n        for f in images:\\n            seq.append((f, hamming(avhash(f), h)))\\n            if prog:\\n                perc = 100. * prog / len(images)\\n                x = int(2 * perc / 5)\\n                print \\'\\rCalculating... [\\' + \\'#\\' * x + \\' \\' * (40 - x) + \\']\\',\\n                print \\'%.2f%%\\' % perc, \\'(%d/%d)\\' % (prog, len(images)),\\n                sys.stdout.flush()\\n                prog += 1\\n\\n        if prog: print\\n        for f, ham in sorted(seq, key=lambda i: i[1]):\\n            print \"%d\\t%s\" % (ham, f)\\n'"
      ]
     },
     "execution_count": 8,
     "metadata": {},
     "output_type": "execute_result"
    }
   ],
   "source": [
    "#!/usr/bin/python\n",
    "import glob\n",
    "import os\n",
    "import sys\n",
    "from functools import reduce\n",
    "from PIL import Image\n",
    "\n",
    "EXTS = 'jpg', 'jpeg', 'JPG', 'JPEG', 'gif', 'GIF', 'png', 'PNG'\n",
    "\n",
    "def avhash(im): #Perceptual hash algorithm\n",
    "    if not isinstance(im, Image.Image):\n",
    "        im = Image.open(im)\n",
    "    im = im.resize((8, 8), Image.ANTIALIAS).convert('L')\n",
    "    avg = reduce(lambda x, y: x + y, im.getdata()) / 64.\n",
    "    return reduce(lambda x, yz: x | (yz[1] << yz[0]),\n",
    "                  enumerate(map(lambda i: 0 if i < avg else 1, im.getdata())),\n",
    "                  0)\n",
    "\n",
    "def hamming(h1, h2):\n",
    "    h, d = 0, h1 ^ h2\n",
    "    while d:\n",
    "        h += 1\n",
    "        d &= d - 1\n",
    "    return h\n",
    "\n",
    "img1 = avhash('/data/fjsdata/ASOCT/Cataract/C_8bit_Crop_New/c0100_20181102_111708_R_CASIA2_LGC_002.jpg')\n",
    "print(img1)\n",
    "img2 = avhash('/data/fjsdata/ASOCT/Cataract/C_8bit_Crop_New/C020_20180514_100425_L_CASIA2_LGC_008.jpg')\n",
    "print(img2)\n",
    "print (hamming(img1, img2))\n",
    "'''\n",
    "if __name__ == '__main__':\n",
    "    if len(sys.argv) <= 1 or len(sys.argv) > 3:\n",
    "        print \"Usage: %s image.jpg [dir]\" % sys.argv[0]\n",
    "    else:\n",
    "        im, wd = sys.argv[1], '.' if len(sys.argv) < 3 else sys.argv[2]\n",
    "        h = avhash(im)\n",
    "\n",
    "        os.chdir(wd)\n",
    "        images = []\n",
    "        for ext in EXTS:\n",
    "            images.extend(glob.glob('*.%s' % ext))\n",
    "\n",
    "        seq = []\n",
    "        prog = int(len(images) > 50 and sys.stdout.isatty())\n",
    "        for f in images:\n",
    "            seq.append((f, hamming(avhash(f), h)))\n",
    "            if prog:\n",
    "                perc = 100. * prog / len(images)\n",
    "                x = int(2 * perc / 5)\n",
    "                print '\\rCalculating... [' + '#' * x + ' ' * (40 - x) + ']',\n",
    "                print '%.2f%%' % perc, '(%d/%d)' % (prog, len(images)),\n",
    "                sys.stdout.flush()\n",
    "                prog += 1\n",
    "\n",
    "        if prog: print\n",
    "        for f, ham in sorted(seq, key=lambda i: i[1]):\n",
    "            print \"%d\\t%s\" % (ham, f)\n",
    "'''"
   ]
  }
 ],
 "metadata": {
  "kernelspec": {
   "display_name": "Python 3",
   "language": "python",
   "name": "python3"
  },
  "language_info": {
   "codemirror_mode": {
    "name": "ipython",
    "version": 3
   },
   "file_extension": ".py",
   "mimetype": "text/x-python",
   "name": "python",
   "nbconvert_exporter": "python",
   "pygments_lexer": "ipython3",
   "version": "3.7.4"
  }
 },
 "nbformat": 4,
 "nbformat_minor": 2
}
