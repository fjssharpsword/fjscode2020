{
 "cells": [
  {
   "cell_type": "code",
   "execution_count": 22,
   "metadata": {},
   "outputs": [
    {
     "name": "stdout",
     "output_type": "stream",
     "text": [
      "0\n"
     ]
    }
   ],
   "source": [
    "import matplotlib.pyplot as plt\n",
    "%matplotlib inline\n",
    "import numpy as np\n",
    "import pandas as pd\n",
    "import os\n",
    "import sys\n",
    "import shutil\n",
    "import math\n",
    "import random\n",
    "import heapq \n",
    "import time\n",
    "import itertools\n",
    "from PIL import Image\n",
    "from io import StringIO,BytesIO \n",
    "from scipy.spatial.distance import pdist\n",
    "import cv2\n",
    "from scipy.signal import butter, lfilter\n",
    "from sklearn.model_selection import train_test_split\n",
    "from sklearn.metrics import confusion_matrix,roc_curve,accuracy_score,auc \n",
    "from functools import reduce\n",
    "import wfdb#https://github.com/MIT-LCP/wfdb-python\n",
    "from wfdb import processing\n",
    "import faiss \n",
    "import torch\n",
    "import torch.nn as nn\n",
    "import torch.nn.functional as F\n",
    "from torch.autograd import Variable\n",
    "torch.cuda.set_device(0)\n",
    "print (torch.cuda.current_device())"
   ]
  },
  {
   "cell_type": "code",
   "execution_count": 5,
   "metadata": {},
   "outputs": [
    {
     "name": "stdout",
     "output_type": "stream",
     "text": [
      "The shape of trainset is: (51009,200)\n",
      "0    45854\n",
      "2     3788\n",
      "1      944\n",
      "3      415\n",
      "4        8\n",
      "Name: 1, dtype: int64\n",
      "The shape of testset is: (49698,200)\n",
      "0    44245\n",
      "2     3221\n",
      "1     1837\n",
      "3      388\n",
      "4        7\n",
      "Name: 1, dtype: int64\n"
     ]
    }
   ],
   "source": [
    "#Beats generation,\n",
    "#we defined a single ECG beat image by centering the Q-wave peak signal while\n",
    "#excluding the first and the last 20 ECG signals from the previous and afterward Q-wave peak signal\n",
    "#https://github.com/MIT-LCP/wfdb-python/blob/master/demo.ipynb\n",
    "#https://archive.physionet.org/physiobank/database/html/mitdbdir/mitdbdir.htm\n",
    "#http://www.tara.tcd.ie/bitstream/handle/2262/17623/automatic.pdf?sequence=1\n",
    "def labeltotext(val):\n",
    "    if val in ['N','L','R','e','j'] :\n",
    "        return 0 #N\n",
    "    elif val in ['A','a','J','S']:\n",
    "        return 1 #S\n",
    "    elif val in ['V','E']:\n",
    "        return 2 #V\n",
    "    elif val == 'F':\n",
    "        return 3 #F\n",
    "    elif val in ['/','f','Q']:\n",
    "        return 4 #Q\n",
    "    else: \n",
    "        pass\n",
    "    \n",
    "rootdir = '/data/fjsdata/physionet/MIT-BIH/mitdb/'\n",
    "right_len = 180 #right sample length around of peak value of QRS\n",
    "left_len = 20 #left sample length around of peak value of QRS\n",
    "#get trainset\n",
    "trData = [] #[QRS value, label]\n",
    "for bt in [101,106,108,109,112,114,115,116,118,119,122,124,201,203,205,207,208,209,215,220,223,230]:#22 records for train\n",
    "    file = os.path.join(rootdir,str(bt))\n",
    "    try:\n",
    "        annotation = wfdb.rdann(file, 'atr') \n",
    "        qrs_spl = annotation.sample #numpy.ndarray\n",
    "        qrs_sym = annotation.symbol #list\n",
    "        record = wfdb.rdrecord(file)\n",
    "        signal = record.p_signal #numpy.ndarray\n",
    "        max_len = record.sig_len #length of samples\n",
    "        lead_name =  record.sig_name #names of lead channels,list\n",
    "        for i in range(annotation.ann_len):\n",
    "            if qrs_sym[i] in ['N','L','R','e','j','A','a','J','S','V','E','F','/','f','Q']:#seven diseases samples\n",
    "                pos = qrs_spl[i] #corresponding position of peak value of QRS\n",
    "                if pos+right_len<=max_len and pos-left_len>=0:\n",
    "                    max_idx = pos+right_len#np.min([max_len, pos+trunc_len])\n",
    "                    min_idx = pos-left_len#np.max([0, pos-trunc_len])\n",
    "                    #for j, val in enumerate(lead_name):\n",
    "                        #QRS_value = signal[:,j][min_idx:max_idx]\n",
    "                        #data.append([QRS_value,labeltotext(qrs_sym[i]),val])#[QRS value, label, lead name]\n",
    "                    QRS_value = signal[:,0][min_idx:max_idx] #only one lead\n",
    "                    trData.append([QRS_value,labeltotext(qrs_sym[i])])\n",
    "    except:\n",
    "        pass\n",
    "    \n",
    "trData = pd.DataFrame(np.array(trData))\n",
    "X_train = pd.DataFrame(trData[0].values.tolist())\n",
    "y_train = trData[1]\n",
    "print('The shape of trainset is: (%d,%d)'%(X_train.shape[0],X_train.shape[1]))\n",
    "print(trData[1].value_counts())\n",
    "#get testset\n",
    "teData = [] #[QRS value, label]\n",
    "for bt in [100,103,105,111,113,117,121,123,200,202,210,212,213,214,219,221,222,228,231,232,233,234]:#22 records for test\n",
    "    file = os.path.join(rootdir,str(bt))\n",
    "    try:\n",
    "        annotation = wfdb.rdann(file, 'atr') \n",
    "        qrs_spl = annotation.sample #numpy.ndarray\n",
    "        qrs_sym = annotation.symbol #list\n",
    "        record = wfdb.rdrecord(file)\n",
    "        signal = record.p_signal #numpy.ndarray\n",
    "        max_len = record.sig_len #length of samples\n",
    "        lead_name =  record.sig_name #names of lead channels,list\n",
    "        for i in range(annotation.ann_len):\n",
    "            if qrs_sym[i] in ['N','L','R','e','j','A','a','J','S','V','E','F','/','f','Q']:#seven diseases samples\n",
    "                pos = qrs_spl[i] #corresponding position of peak value of QRS\n",
    "                if pos+right_len<=max_len and pos-left_len>=0:\n",
    "                    max_idx = pos+right_len#np.min([max_len, pos+trunc_len])\n",
    "                    min_idx = pos-left_len#np.max([0, pos-trunc_len])\n",
    "                    #for j, val in enumerate(lead_name):\n",
    "                        #QRS_value = signal[:,j][min_idx:max_idx]\n",
    "                        #data.append([QRS_value,labeltotext(qrs_sym[i]),val])#[QRS value, label, lead name]\n",
    "                    QRS_value = signal[:,0][min_idx:max_idx] #only one lead\n",
    "                    teData.append([QRS_value,labeltotext(qrs_sym[i])])\n",
    "    except:\n",
    "        pass\n",
    "\n",
    "teData = pd.DataFrame(np.array(teData))\n",
    "X_test = pd.DataFrame(teData[0].values.tolist())\n",
    "y_test = teData[1]\n",
    "print('The shape of testset is: (%d,%d)'%(X_test.shape[0],X_test.shape[1]))\n",
    "print(teData[1].value_counts())"
   ]
  },
  {
   "cell_type": "code",
   "execution_count": 79,
   "metadata": {},
   "outputs": [
    {
     "name": "stdout",
     "output_type": "stream",
     "text": [
      "Completed buliding index in 1 seconds\n",
      "Accuracy: 0.826814\n",
      "[[38424  2401  2534   854    32]\n",
      " [ 1758    42     8    29     0]\n",
      " [  495    79  2624    23     0]\n",
      " [  260     0   127     1     0]\n",
      " [    2     0     5     0     0]]\n",
      "Specificity: 0.868437\n",
      "Sensitivity of S: 0.022863\n",
      "Sensitivity of V: 0.814654\n",
      "Sensitivity of F: 0.002577\n",
      "Sensitivity of Q: 0.000000\n"
     ]
    }
   ],
   "source": [
    "#model: faiss+index\n",
    "# buliding index of trainset\n",
    "tstart = time.time()\n",
    "cpu_index = faiss.IndexFlatL2(right_len+left_len) #\n",
    "gpu_index = faiss.index_cpu_to_all_gpus(cpu_index) #make all gpu usable\n",
    "gpu_index.add(np.ascontiguousarray(X_train, dtype=np.float32)) #add data(must be float32) to index\n",
    "elapsed = time.time() - tstart    \n",
    "print('Completed buliding index in %d seconds' % int(elapsed))\n",
    "#performance\n",
    "X_test = np.ascontiguousarray(X_test, dtype=np.float32)\n",
    "scores, neighbors = gpu_index.search(X_test, k=1) #return top1\n",
    "y_pred = []\n",
    "for i in neighbors.flatten():\n",
    "    y_pred.append(np.array(y_train)[i]) #label of top1\n",
    "print ( 'Accuracy: %.6f'%accuracy_score(y_test.tolist(), y_pred))\n",
    "#confusion matrix\n",
    "labels = list(set(y_pred))\n",
    "cm = confusion_matrix(y_test.tolist(), y_pred, labels=labels ) #labels=['N','S','V','F','Q']\n",
    "print (cm)\n",
    "print ('Specificity: %.6f'%float(cm[0][0]/np.sum(cm[0])))\n",
    "print ('Sensitivity of S: %.6f'%float(cm[1][1]/np.sum(cm[1])))\n",
    "print ('Sensitivity of V: %.6f'%float(cm[2][2]/np.sum(cm[2])))\n",
    "print ('Sensitivity of F: %.6f'%float(cm[3][3]/np.sum(cm[3])))\n",
    "print ('Sensitivity of Q: %.6f'%float(cm[4][4]/np.sum(cm[4])))"
   ]
  },
  {
   "cell_type": "code",
   "execution_count": 80,
   "metadata": {},
   "outputs": [
    {
     "name": "stderr",
     "output_type": "stream",
     "text": [
      "/root/miniconda3/lib/python3.7/site-packages/sklearn/neighbors/approximate.py:258: DeprecationWarning: LSHForest has poor performance and has been deprecated in 0.19. It will be removed in version 0.21.\n",
      "  DeprecationWarning)\n"
     ]
    },
    {
     "name": "stdout",
     "output_type": "stream",
     "text": [
      "Accuracy: 0.819872\n",
      "[[38020  1574  3375  1265    11]\n",
      " [ 1425    56   311    45     0]\n",
      " [  487    50  2664    20     0]\n",
      " [  345     1    37     5     0]\n",
      " [    4     0     2     0     1]]\n",
      "Specificity: 0.859306\n",
      "Sensitivity of S: 0.030484\n",
      "Sensitivity of V: 0.827072\n",
      "Sensitivity of F: 0.012887\n",
      "Sensitivity of Q: 0.142857\n"
     ]
    }
   ],
   "source": [
    "#model: LSH\n",
    "from sklearn.neighbors import LSHForest\n",
    "lshf = LSHForest(min_hash_match=4, n_neighbors=20, n_candidates=10, n_estimators =10, random_state=42) #hashcode=32\n",
    "lshf.fit(X_train)  \n",
    "distances, indices = lshf.kneighbors(X_test, n_neighbors=1)#top1\n",
    "y_pred = []\n",
    "for i in indices.flatten():\n",
    "    y_pred.append(np.array(y_train)[i]) #label of top1\n",
    "print ( 'Accuracy: %.6f'%accuracy_score(y_test.tolist(), y_pred))\n",
    "#confusion matrix\n",
    "labels = list(set(y_pred))\n",
    "cm = confusion_matrix(y_test.tolist(), y_pred, labels=labels ) #labels=['N','S','V','F','Q']\n",
    "print (cm)\n",
    "print ('Specificity: %.6f'%float(cm[0][0]/np.sum(cm[0])))\n",
    "print ('Sensitivity of S: %.6f'%float(cm[1][1]/np.sum(cm[1])))\n",
    "print ('Sensitivity of V: %.6f'%float(cm[2][2]/np.sum(cm[2])))\n",
    "print ('Sensitivity of F: %.6f'%float(cm[3][3]/np.sum(cm[3])))\n",
    "print ('Sensitivity of Q: %.6f'%float(cm[4][4]/np.sum(cm[4])))"
   ]
  },
  {
   "cell_type": "code",
   "execution_count": 18,
   "metadata": {},
   "outputs": [
    {
     "name": "stdout",
     "output_type": "stream",
     "text": [
      "The shape of testset is: (352685,200)\n",
      "0    316492\n",
      "2     31184\n",
      "4      3743\n",
      "3      1266\n",
      "Name: 1, dtype: int64\n"
     ]
    }
   ],
   "source": [
    "#AHA2MIT\n",
    "#https://archive.physionet.org/physiobank/annotations.shtml\n",
    "def labeltotext(val):\n",
    "    if val in ['N','L','R','e','j'] :\n",
    "        return 0 #N\n",
    "    elif val in ['A','a','J','S']:\n",
    "        return 1 #S\n",
    "    elif val in ['V','E']:\n",
    "        return 2 #V\n",
    "    elif val == 'F':\n",
    "        return 3 #F\n",
    "    elif val in ['/','f','Q']:\n",
    "        return 4 #Q\n",
    "    else: \n",
    "        pass\n",
    "rootdir = '/data/fjsdata/ECG/AHA2MIT'\n",
    "filename = list(set( [os.path.splitext(base)[0] for base in os.listdir(rootdir)]) )\n",
    "teData = [] #[QRS value, label]\n",
    "right_len = 180 #right sample length around of peak value of QRS\n",
    "left_len = 20 #left sample length around of peak value of QRS\n",
    "for bt in filename:#22 records for test\n",
    "    file = os.path.join(rootdir,str(bt))\n",
    "    try:\n",
    "        annotation = wfdb.rdann(file, 'atr') \n",
    "        qrs_spl = annotation.sample #numpy.ndarray\n",
    "        qrs_sym = annotation.symbol #list\n",
    "        #print (list(set(qrs_sym)))\n",
    "        record = wfdb.rdrecord(file)\n",
    "        signal = record.p_signal #numpy.ndarray\n",
    "        max_len = record.sig_len #length of samples\n",
    "        lead_name =  record.sig_name #names of lead channels,list\n",
    "        for i in range(annotation.ann_len):\n",
    "            if qrs_sym[i] in ['N','L','R','e','j','A','a','J','S','V','E','F','/','f','Q']:#five diseases samples\n",
    "                pos = qrs_spl[i] #corresponding position of peak value of QRS\n",
    "                if pos+right_len<=max_len and pos-left_len>=0:\n",
    "                    max_idx = pos+right_len#np.min([max_len, pos+trunc_len])\n",
    "                    min_idx = pos-left_len#np.max([0, pos-trunc_len])\n",
    "                    QRS_value = signal[:,0][min_idx:max_idx] #only one lead\n",
    "                    teData.append([QRS_value, labeltotext(qrs_sym[i])])\n",
    "    except:\n",
    "        pass\n",
    "\n",
    "teData = pd.DataFrame(np.array(teData))\n",
    "X_test = pd.DataFrame(teData[0].values.tolist()).fillna(0)\n",
    "y_test = teData[1]\n",
    "print('The shape of testset is: (%d,%d)'%(X_test.shape[0],X_test.shape[1]))\n",
    "print(teData[1].value_counts())"
   ]
  },
  {
   "cell_type": "code",
   "execution_count": 19,
   "metadata": {},
   "outputs": [
    {
     "name": "stdout",
     "output_type": "stream",
     "text": [
      "Completed buliding index in 1 seconds\n",
      "Accuracy: 0.728449\n",
      "[[239360  28611  33447  14790    284]\n",
      " [     0      0      0      0      0]\n",
      " [ 10885   2187  17484    612     16]\n",
      " [   538    363    299     64      2]\n",
      " [   686    292   2742     18      5]]\n",
      "Specificity: 0.756291\n",
      "Sensitivity of S: nan\n",
      "Sensitivity of V: 0.560672\n",
      "Sensitivity of F: 0.050553\n",
      "Sensitivity of Q: 0.001336\n"
     ]
    },
    {
     "name": "stderr",
     "output_type": "stream",
     "text": [
      "/root/miniconda3/lib/python3.7/site-packages/ipykernel_launcher.py:20: RuntimeWarning: invalid value encountered in long_scalars\n"
     ]
    }
   ],
   "source": [
    "# buliding index of trainset\n",
    "tstart = time.time()\n",
    "cpu_index = faiss.IndexFlatL2(right_len+left_len) #\n",
    "gpu_index = faiss.index_cpu_to_all_gpus(cpu_index) #make all gpu usable\n",
    "gpu_index.add(np.ascontiguousarray(X_train, dtype=np.float32)) #add data(must be float32) to index\n",
    "elapsed = time.time() - tstart    \n",
    "print('Completed buliding index in %d seconds' % int(elapsed))\n",
    "#performance\n",
    "X_test = np.ascontiguousarray(X_test, dtype=np.float32)\n",
    "scores, neighbors = gpu_index.search(X_test, k=1) #return top1\n",
    "y_pred = []\n",
    "for i in neighbors.flatten():\n",
    "    y_pred.append(np.array(y_train)[i]) #label of top1\n",
    "print ( 'Accuracy: %.6f'%accuracy_score(y_test.tolist(), y_pred))\n",
    "#confusion matrix\n",
    "labels = list(set(y_pred))\n",
    "cm = confusion_matrix(y_test.tolist(), y_pred, labels=labels ) #labels=['N','S','V','F','Q']\n",
    "print (cm)\n",
    "print ('Specificity: %.6f'%float(cm[0][0]/np.sum(cm[0])))\n",
    "print ('Sensitivity of S: %.6f'%float(cm[1][1]/np.sum(cm[1])))\n",
    "print ('Sensitivity of V: %.6f'%float(cm[2][2]/np.sum(cm[2])))\n",
    "print ('Sensitivity of F: %.6f'%float(cm[3][3]/np.sum(cm[3])))\n",
    "print ('Sensitivity of Q: %.6f'%float(cm[4][4]/np.sum(cm[4])))"
   ]
  },
  {
   "cell_type": "code",
   "execution_count": 20,
   "metadata": {},
   "outputs": [
    {
     "name": "stderr",
     "output_type": "stream",
     "text": [
      "/root/miniconda3/lib/python3.7/site-packages/sklearn/neighbors/approximate.py:258: DeprecationWarning: LSHForest has poor performance and has been deprecated in 0.19. It will be removed in version 0.21.\n",
      "  DeprecationWarning)\n"
     ]
    },
    {
     "name": "stdout",
     "output_type": "stream",
     "text": [
      "Accuracy: 0.595560\n",
      "[[190043   8886  64115  53174    274]\n",
      " [     0      0      0      0      0]\n",
      " [  8504   1807  19866    989     18]\n",
      " [   432     85    619    130      0]\n",
      " [   560    714   2448     15      6]]\n",
      "Specificity: 0.600467\n",
      "Sensitivity of S: nan\n",
      "Sensitivity of V: 0.637057\n",
      "Sensitivity of F: 0.102686\n",
      "Sensitivity of Q: 0.001603\n"
     ]
    },
    {
     "name": "stderr",
     "output_type": "stream",
     "text": [
      "/root/miniconda3/lib/python3.7/site-packages/ipykernel_launcher.py:15: RuntimeWarning: invalid value encountered in long_scalars\n",
      "  from ipykernel import kernelapp as app\n"
     ]
    }
   ],
   "source": [
    "#model: LSH\n",
    "from sklearn.neighbors import LSHForest\n",
    "lshf = LSHForest(min_hash_match=4, n_neighbors=20, n_candidates=10, n_estimators =10, random_state=42) #hashcode=32\n",
    "lshf.fit(X_train)  \n",
    "distances, indices = lshf.kneighbors(X_test, n_neighbors=1)#top1\n",
    "y_pred = []\n",
    "for i in indices.flatten():\n",
    "    y_pred.append(np.array(y_train)[i]) #label of top1\n",
    "print ( 'Accuracy: %.6f'%accuracy_score(y_test.tolist(), y_pred))\n",
    "#confusion matrix\n",
    "labels = list(set(y_pred))\n",
    "cm = confusion_matrix(y_test.tolist(), y_pred, labels=labels ) #labels=['N','S','V','F','Q']\n",
    "print (cm)\n",
    "print ('Specificity: %.6f'%float(cm[0][0]/np.sum(cm[0])))\n",
    "print ('Sensitivity of S: %.6f'%float(cm[1][1]/np.sum(cm[1])))\n",
    "print ('Sensitivity of V: %.6f'%float(cm[2][2]/np.sum(cm[2])))\n",
    "print ('Sensitivity of F: %.6f'%float(cm[3][3]/np.sum(cm[3])))\n",
    "print ('Sensitivity of Q: %.6f'%float(cm[4][4]/np.sum(cm[4])))"
   ]
  },
  {
   "cell_type": "code",
   "execution_count": 23,
   "metadata": {},
   "outputs": [
    {
     "name": "stdout",
     "output_type": "stream",
     "text": [
      "Normalized confusion matrix\n",
      "[[9.92497580e-01 4.84027106e-04 1.21006776e-03 5.80832527e-03\n",
      "  0.00000000e+00]\n",
      " [1.24843945e-02 9.81273408e-01 1.49812734e-03 3.49563046e-03\n",
      "  1.24843945e-03]\n",
      " [7.23372412e-03 7.48316288e-04 9.91020205e-01 9.97755051e-04\n",
      "  0.00000000e+00]\n",
      " [1.11111111e-02 1.72839506e-03 2.46913580e-04 9.57530864e-01\n",
      "  2.93827160e-02]\n",
      " [7.74225774e-03 2.49750250e-04 1.99800200e-03 6.99300699e-03\n",
      "  9.83016983e-01]]\n"
     ]
    },
    {
     "data": {
      "image/png": "[encoded data removed]",
      "text/plain": [
       "<Figure size 432x288 with 2 Axes>"
      ]
     },
     "metadata": {
      "needs_background": "light"
     },
     "output_type": "display_data"
    }
   ],
   "source": [
    "def plot_confusion_matrix(cm, classes,\n",
    "                          normalize=False,\n",
    "                          title='Confusion matrix',\n",
    "                          cmap=plt.cm.Blues):\n",
    "    \"\"\"\n",
    "    This function prints and plots the confusion matrix.\n",
    "    Normalization can be applied by setting `normalize=True`.\n",
    "    \"\"\"\n",
    "    if normalize:\n",
    "        cm = cm.astype('float') / cm.sum(axis=1)[:, np.newaxis]\n",
    "        print(\"Normalized confusion matrix\")\n",
    "    else:\n",
    "        print('Confusion matrix, without normalization')\n",
    " \n",
    "    print(cm)\n",
    " \n",
    "    plt.imshow(cm, interpolation='nearest', cmap=cmap)\n",
    "    plt.title(title)\n",
    "    plt.colorbar()\n",
    "    tick_marks = np.arange(len(classes))\n",
    "    plt.xticks(tick_marks, classes, rotation=45)\n",
    "    plt.yticks(tick_marks, classes)\n",
    " \n",
    "    fmt = '.2f' if normalize else 'd'\n",
    "    thresh = cm.max() / 2.\n",
    "    for i, j in itertools.product(range(cm.shape[0]), range(cm.shape[1])):\n",
    "        plt.text(j, i, format(cm[i, j], fmt),\n",
    "                 horizontalalignment=\"center\",\n",
    "                 color=\"white\" if cm[i, j] > thresh else \"black\")\n",
    " \n",
    "    plt.tight_layout()\n",
    "    plt.ylabel('True label')\n",
    "    plt.xlabel('Predicted label')\n",
    "    plt.show()\n",
    "    # plt.savefig('confusion_matrix',dpi=200)\n",
    "    \n",
    "cnf_matrix = np.array([\n",
    "    [4101, 2, 5, 24, 0],\n",
    "    [50, 3930, 6, 14, 5],\n",
    "    [29, 3, 3973, 4, 0],\n",
    "    [45, 7, 1, 3878, 119],\n",
    "    [31, 1, 8, 28, 3936],\n",
    "])\n",
    "# Plot normalized confusion matrix \n",
    "class_names = ['Buildings', 'Farmland', 'Greenbelt', 'Wasteland', 'Water']\n",
    "plt.figure()\n",
    "plot_confusion_matrix(cnf_matrix, classes=class_names, normalize=True,title='Normalized confusion matrix')"
   ]
  },
  {
   "cell_type": "code",
   "execution_count": null,
   "metadata": {},
   "outputs": [],
   "source": []
  }
 ],
 "metadata": {
  "kernelspec": {
   "display_name": "Python 3",
   "language": "python",
   "name": "python3"
  },
  "language_info": {
   "codemirror_mode": {
    "name": "ipython",
    "version": 3
   },
   "file_extension": ".py",
   "mimetype": "text/x-python",
   "name": "python",
   "nbconvert_exporter": "python",
   "pygments_lexer": "ipython3",
   "version": "3.7.4"
  }
 },
 "nbformat": 4,
 "nbformat_minor": 2
}
