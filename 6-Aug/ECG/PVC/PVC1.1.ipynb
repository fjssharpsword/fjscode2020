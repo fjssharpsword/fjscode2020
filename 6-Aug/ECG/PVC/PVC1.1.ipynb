{
 "cells": [
  {
   "cell_type": "code",
   "execution_count": 1,
   "metadata": {},
   "outputs": [
    {
     "name": "stderr",
     "output_type": "stream",
     "text": [
      "Loading faiss with AVX2 support.\n"
     ]
    },
    {
     "name": "stdout",
     "output_type": "stream",
     "text": [
      "0\n"
     ]
    }
   ],
   "source": [
    "import matplotlib.pyplot as plt\n",
    "%matplotlib inline\n",
    "import numpy as np\n",
    "import pandas as pd\n",
    "import os\n",
    "import sys\n",
    "import shutil\n",
    "import math\n",
    "import random\n",
    "import heapq \n",
    "import time\n",
    "import copy\n",
    "import itertools  \n",
    "from PIL import Image\n",
    "from io import StringIO,BytesIO \n",
    "from scipy.spatial.distance import pdist\n",
    "import cv2\n",
    "from scipy.signal import butter, lfilter\n",
    "from sklearn.model_selection import train_test_split\n",
    "from sklearn.metrics import confusion_matrix,roc_curve,accuracy_score,auc,silhouette_score \n",
    "from sklearn.cluster import KMeans\n",
    "from functools import reduce\n",
    "import wfdb#https://github.com/MIT-LCP/wfdb-python\n",
    "from wfdb import processing\n",
    "import faiss \n",
    "import torch\n",
    "import torch.nn as nn\n",
    "import torch.nn.functional as F\n",
    "from torch.autograd import Variable\n",
    "torch.cuda.set_device(0)\n",
    "print (torch.cuda.current_device())"
   ]
  },
  {
   "cell_type": "code",
   "execution_count": 2,
   "metadata": {},
   "outputs": [
    {
     "name": "stdout",
     "output_type": "stream",
     "text": [
      "The shape of MIT-BIH for PVC is: (13804,362)\n",
      "The shape of AHA2MIT for PVC is: (62344,362)\n"
     ]
    }
   ],
   "source": [
    "#1.MIT-BIH for PVC: https://github.com/MIT-LCP/wfdb-python/blob/master/demo.ipynb\n",
    "#https://archive.physionet.org/physiobank/database/html/mitdbdir/mitdbdir.htm\n",
    "#http://www.tara.tcd.ie/bitstream/handle/2262/17623/automatic.pdf?sequence=1\n",
    "rootdir = '/data/fjsdata/physionet/MIT-BIH/mitdb/'\n",
    "right_len = 180 #right sample length around of peak value of QRS\n",
    "left_len = 180 #left sample length around of peak value of QRS\n",
    "#get trainset\n",
    "mbPCV = [] #[Subject,sig_name,QRS]\n",
    "for bt in [101,106,108,109,112,114,115,116,118,119,122,124,201,203,205,207,208,209,215,220,223,230,\\\n",
    "            100,103,105,111,113,117,121,123,200,202,210,212,213,214,219,221,222,228,231,232,233,234]:\n",
    "    #44 records for train\n",
    "    file = os.path.join(rootdir,str(bt))\n",
    "    try:\n",
    "        annotation = wfdb.rdann(file, 'atr') \n",
    "        qrs_spl = annotation.sample #numpy.ndarray\n",
    "        qrs_sym = annotation.symbol #list\n",
    "        record = wfdb.rdrecord(file)\n",
    "        signal = record.p_signal #numpy.ndarray\n",
    "        max_len = record.sig_len #length of samples\n",
    "        lead_name =  record.sig_name #names of lead channels,list\n",
    "        for i in range(annotation.ann_len):\n",
    "            if qrs_sym[i] in ['V']:#PVC samples\n",
    "                pos = qrs_spl[i] #corresponding position of peak value of QRS\n",
    "                if pos+right_len<=max_len and pos-left_len>=0:\n",
    "                    max_idx = pos+right_len#np.min([max_len, pos+trunc_len])\n",
    "                    min_idx = pos-left_len#np.max([0, pos-trunc_len])\n",
    "                    for j, val in enumerate(lead_name):\n",
    "                        QRS_value = signal[:,j][min_idx:max_idx]\n",
    "                        mbPCV.append([bt,lead_name[j],QRS_value])#[Subject,sig_name,QRS]\n",
    "    except: pass\n",
    "mbPCV = pd.DataFrame(np.array(mbPCV),columns=['sub','lead','qrs'])\n",
    "mbPCV_QRS = pd.DataFrame(mbPCV['qrs'].values.tolist()) #QRS extrend\n",
    "mbPCV = mbPCV.drop(['qrs'],axis=1) #drop column 2\n",
    "#mbPCV = mbPCV.rename(columns={\"0\": \"sub\", \"1\": \"lead\"})\n",
    "mbPCV = pd.concat([mbPCV, mbPCV_QRS], axis=1)\n",
    "print('The shape of MIT-BIH for PVC is: (%d,%d)'%(mbPCV.shape[0],mbPCV.shape[1]))\n",
    "\n",
    "#2. AHA2MIT for PVC：https://archive.physionet.org/physiobank/annotations.shtml\n",
    "rootdir = '/data/fjsdata/ECG/AHA2MIT'\n",
    "filename = list(set( [os.path.splitext(base)[0] for base in os.listdir(rootdir)]) )\n",
    "amPCV = [] #[Subject,sig_name,QRS]\n",
    "for bt in filename:#154 records for test\n",
    "    file = os.path.join(rootdir,str(bt))\n",
    "    try:\n",
    "        annotation = wfdb.rdann(file, 'atr') \n",
    "        qrs_spl = annotation.sample #numpy.ndarray\n",
    "        qrs_sym = annotation.symbol #list\n",
    "        #print (list(set(qrs_sym)))\n",
    "        record = wfdb.rdrecord(file)\n",
    "        signal = record.p_signal #numpy.ndarray\n",
    "        max_len = record.sig_len #length of samples\n",
    "        lead_name =  record.sig_name #names of lead channels,list\n",
    "        for i in range(annotation.ann_len):\n",
    "            if qrs_sym[i] in ['V']:#PVC samples\n",
    "                pos = qrs_spl[i] #corresponding position of peak value of QRS\n",
    "                if pos+right_len<=max_len and pos-left_len>=0:\n",
    "                    max_idx = pos+right_len#np.min([max_len, pos+trunc_len])\n",
    "                    min_idx = pos-left_len#np.max([0, pos-trunc_len])\n",
    "                    for j, val in enumerate(lead_name):\n",
    "                        QRS_value = signal[:,j][min_idx:max_idx]\n",
    "                        amPCV.append([bt,lead_name[j],QRS_value])#[Subject,sig_name,QRS]\n",
    "    except:pass\n",
    "amPCV = pd.DataFrame(np.array(amPCV),columns=['sub','lead','qrs'])\n",
    "amPCV_QRS = pd.DataFrame(amPCV['qrs'].values.tolist()) #QRS extrend\n",
    "amPCV = amPCV.drop(['qrs'],axis=1) #drop column 2\n",
    "amPCV = pd.concat([amPCV, amPCV_QRS], axis=1)\n",
    "print('The shape of AHA2MIT for PVC is: (%d,%d)'%(amPCV.shape[0],amPCV.shape[1]))"
   ]
  },
  {
   "cell_type": "code",
   "execution_count": 4,
   "metadata": {},
   "outputs": [
    {
     "name": "stdout",
     "output_type": "stream",
     "text": [
      "best K is:3 and its silhouette score is:0.353035\n",
      "33\n",
      "23\n"
     ]
    }
   ],
   "source": [
    "#Trainset and Testset: MIT-BIH (lead = 'MLII')\n",
    "mbPCV_MLII = mbPCV[mbPCV['lead']=='MLII']\n",
    "#print (mbPCV_MLII['sub'].value_counts())\n",
    "X = mbPCV_MLII.drop(['sub','lead'],axis=1)\n",
    "best_score = 0.0\n",
    "best_k = 1\n",
    "distortions = []\n",
    "for k in range(2,9):\n",
    "    estimator = KMeans(n_clusters=k, random_state=0).fit(X)\n",
    "    distortions.append(estimator.inertia_)\n",
    "    si_score = silhouette_score(X,estimator.labels_,metric='euclidean')\n",
    "    if si_score>best_score:\n",
    "        best_score = si_score\n",
    "        best_k = k\n",
    "print('best K is:%d and its silhouette score is:%f'%(best_k,best_score))\n",
    "kmeans = KMeans(n_clusters=best_k, random_state=0).fit(X)\n",
    "#predict every subject \n",
    "sub_list = list(set(mbPCV_MLII['sub'].tolist()))\n",
    "print(len(sub_list))\n",
    "rec_pvc = []\n",
    "for sub in sub_list:\n",
    "    PCV_sub = mbPCV_MLII[mbPCV_MLII['sub']==sub].reset_index(drop=True)\n",
    "    X_sub = PCV_sub.drop(['sub','lead'],axis=1)\n",
    "    pvc_num = X_sub.shape[0]\n",
    "    k_sub = kmeans.predict(X_sub)\n",
    "    k_num = len(list(set(k_sub.tolist())))\n",
    "    if k_num>1:\n",
    "        rec_pvc.append([sub,k_num,pvc_num])\n",
    "print(len(rec_pvc))"
   ]
  },
  {
   "cell_type": "code",
   "execution_count": 34,
   "metadata": {},
   "outputs": [
    {
     "name": "stdout",
     "output_type": "stream",
     "text": [
      "6901 / 6902 "
     ]
    }
   ],
   "source": [
    "#import ecg_plot#pip install ecg_plot, https://pypi.org/project/ecg-plot/\n",
    "#from scipy.misc import electrocardiogram \n",
    "#https://docs.scipy.org/doc/scipy/reference/generated/scipy.misc.electrocardiogram.html\n",
    "fs = 360\n",
    "X = mbPCV_MLII.drop(['sub','lead'],axis=1).reset_index(drop=True) \n",
    "X_sub = np.array(mbPCV_MLII['sub']).tolist()\n",
    "y = kmeans.predict(X).tolist()\n",
    "for idx,row in X.iterrows():\n",
    "    svpath = os.path.join('/data/fjsdata/ECG/PVC/MIT-BIH-MLII/',str(X_sub[idx])+'-'+str(idx)+'-'+str(y[idx]))\n",
    "    ecg = np.array(row)\n",
    "    time_fs = np.arange(ecg.size) / fs\n",
    "    plt.figure(figsize=(5,3))\n",
    "    plt.plot(time_fs, ecg)\n",
    "    plt.axis('off')\n",
    "    plt.savefig(svpath,dpi=100) #(500=5*100,300=3*100)\n",
    "    plt.close()\n",
    "    sys.stdout.write('\\r{} / {} '.format(idx,X.shape[0]))\n",
    "    sys.stdout.flush()"
   ]
  },
  {
   "cell_type": "code",
   "execution_count": null,
   "metadata": {},
   "outputs": [],
   "source": []
  },
  {
   "cell_type": "code",
   "execution_count": null,
   "metadata": {},
   "outputs": [],
   "source": []
  },
  {
   "cell_type": "code",
   "execution_count": 5,
   "metadata": {},
   "outputs": [
    {
     "data": {
      "image/png": "[encoded data removed]",
      "text/plain": [
       "<Figure size 1152x576 with 1 Axes>"
      ]
     },
     "metadata": {
      "needs_background": "light"
     },
     "output_type": "display_data"
    }
   ],
   "source": [
    "K=range(2,9)\n",
    "plt.figure(figsize=(16,8))\n",
    "plt.plot(K, distortions, 'bx-')\n",
    "plt.xlabel('k')\n",
    "plt.ylabel('Distortion')\n",
    "plt.title('The Elbow Method showing the optimal k')\n",
    "plt.show()"
   ]
  },
  {
   "cell_type": "code",
   "execution_count": 3,
   "metadata": {},
   "outputs": [
    {
     "name": "stdout",
     "output_type": "stream",
     "text": [
      "best K is:2 and its silhouette score is:0.216068\n",
      "131\n",
      "86\n"
     ]
    }
   ],
   "source": [
    "#Trainset and Testset: MIT-BIH (lead = 'MLII')\n",
    "amPCV_ECG1 = amPCV[amPCV['lead']=='ECG1']\n",
    "#print (amPCV_ECG1['sub'].value_counts())\n",
    "X = amPCV_ECG1.drop(['sub','lead'],axis=1)\n",
    "X = X.fillna(0.0)\n",
    "best_score = 0.0\n",
    "best_k = 1\n",
    "for k in range(2,9):\n",
    "    estimator = KMeans(n_clusters=k, random_state=0).fit(X)\n",
    "    si_score = silhouette_score(X,estimator.labels_,metric='euclidean')\n",
    "    if si_score>best_score:\n",
    "        best_score = si_score\n",
    "        best_k = k\n",
    "print('best K is:%d and its silhouette score is:%f'%(best_k,best_score))\n",
    "kmeans = KMeans(n_clusters=best_k, random_state=0).fit(X)\n",
    "#predict every subject \n",
    "sub_list = list(set(amPCV_ECG1['sub'].tolist()))\n",
    "print(len(sub_list))\n",
    "rec_pvc = []\n",
    "for sub in sub_list:\n",
    "    PCV_sub = amPCV_ECG1[amPCV_ECG1['sub']==sub].reset_index(drop=True)\n",
    "    X_sub = PCV_sub.drop(['sub','lead'],axis=1)\n",
    "    X_sub = X_sub.fillna(0.0)\n",
    "    pvc_num = X_sub.shape[0]\n",
    "    k_sub = kmeans.predict(X_sub)\n",
    "    k_num = len(list(set(k_sub.tolist())))\n",
    "    if k_num>1:\n",
    "        rec_pvc.append([sub,k_num,pvc_num])\n",
    "print(len(rec_pvc))"
   ]
  }
 ],
 "metadata": {
  "kernelspec": {
   "display_name": "Python 3",
   "language": "python",
   "name": "python3"
  },
  "language_info": {
   "codemirror_mode": {
    "name": "ipython",
    "version": 3
   },
   "file_extension": ".py",
   "mimetype": "text/x-python",
   "name": "python",
   "nbconvert_exporter": "python",
   "pygments_lexer": "ipython3",
   "version": "3.7.4"
  }
 },
 "nbformat": 4,
 "nbformat_minor": 4
}
